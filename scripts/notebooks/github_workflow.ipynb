{
 "cells": [
  {
   "attachments": {},
   "cell_type": "markdown",
   "metadata": {},
   "source": [
    "## Example Branch Names\n",
    "\n",
    "- `git commit -m 'feat: add new button component; add new button components to templates'`  \n",
    "- `git commit -m 'fix: add the stop directive to button component to prevent propagation'`  \n",
    "- `git commit -m 'refactor: rewrite button component in TypeScript'`  \n",
    "- `git commit -m 'chore: write button documentation'`  \n",
    "\n",
    "```bash\n",
    "git commit -m '<category: do something; do some other things>'\n",
    "```"
   ]
  },
  {
   "cell_type": "code",
   "execution_count": 3,
   "metadata": {},
   "outputs": [
    {
     "name": "stdout",
     "output_type": "stream",
     "text": [
      "chore/update-tests-with-fixtures-marks-and-parameters\n"
     ]
    },
    {
     "data": {
      "text/markdown": [
       "# chore/update-tests-with-fixtures-marks-and-parameters"
      ],
      "text/plain": [
       "<IPython.core.display.Markdown object>"
      ]
     },
     "metadata": {},
     "output_type": "display_data"
    }
   ],
   "source": [
    "from IPython.display import Markdown, display\n",
    "\n",
    "\n",
    "def generate_branch_name(type, description):\n",
    "    \"\"\"Generate a branch name from a type and a list of tasks.\"\"\"\n",
    "\n",
    "    # Convert to kabob case\n",
    "    description = description.replace(\" \", \"-\")\n",
    "\n",
    "    if \" \" in description:\n",
    "        raise ValueError(\"Tasks cannot have spaces\")\n",
    "\n",
    "    return f\"{type}/{description}\"\n",
    "\n",
    "\n",
    "# ---------------------------------------------------------------------------- #\n",
    "\n",
    "type = \"chore\"\n",
    "type = \"refactor\"\n",
    "type = \"fix\"\n",
    "type = \"feat\"\n",
    "type = \"chore\"\n",
    "\n",
    "branch_description = \"update tests with fixtures marks and parameters\"\n",
    "\n",
    "\n",
    "# ---------------------------------------------------------------------------- #\n",
    "\n",
    "\n",
    "# ---------------------------------------------------------------------------- #\n",
    "\n",
    "# Construct commit message\n",
    "branch_name = generate_branch_name(type, branch_description)\n",
    "print(branch_name)\n",
    "\n",
    "# Display commit message\n",
    "display(Markdown(f\"# {branch_name}\"))"
   ]
  },
  {
   "cell_type": "code",
   "execution_count": 12,
   "metadata": {},
   "outputs": [
    {
     "name": "stdout",
     "output_type": "stream",
     "text": [
      "Switched to a new branch 'chore/update-tests-with-fixtures-marks-and-parameters'\n"
     ]
    }
   ],
   "source": [
    "# // create a branch and switch to the branch\n",
    "! git checkout -b $branch_name"
   ]
  },
  {
   "cell_type": "code",
   "execution_count": 1,
   "metadata": {},
   "outputs": [
    {
     "name": "stdout",
     "output_type": "stream",
     "text": [
      "From https://github.com/mathesonphillip/aws-explorer\n",
      " * branch            main       -> FETCH_HEAD\n",
      "Already up to date.\n"
     ]
    }
   ],
   "source": [
    "\n",
    "# Make sure that the main branch is up to date\n",
    "! git pull origin main\n"
   ]
  },
  {
   "cell_type": "code",
   "execution_count": 2,
   "metadata": {},
   "outputs": [
    {
     "name": "stdout",
     "output_type": "stream",
     "text": [
      "Already up to date.\n"
     ]
    }
   ],
   "source": [
    "# Once i have completed the work on the branch, i can merge it back into the main branch\n",
    "! git merge main"
   ]
  },
  {
   "cell_type": "code",
   "execution_count": 4,
   "metadata": {},
   "outputs": [
    {
     "name": "stdout",
     "output_type": "stream",
     "text": [
      "Switched to branch 'main'\n",
      "Your branch is up to date with 'origin/main'.\n"
     ]
    }
   ],
   "source": [
    "! git checkout main"
   ]
  },
  {
   "cell_type": "code",
   "execution_count": 5,
   "metadata": {},
   "outputs": [
    {
     "name": "stdout",
     "output_type": "stream",
     "text": [
      "chore/update-tests-with-fixtures-marks-and-parameters\n"
     ]
    }
   ],
   "source": [
    "print(branch_name)"
   ]
  },
  {
   "cell_type": "code",
   "execution_count": 6,
   "metadata": {},
   "outputs": [
    {
     "name": "stdout",
     "output_type": "stream",
     "text": [
      "\u001b[1B\u001b[37m 7\u001b[2;4H\u001b[m\u001b[m# the commit.ing with '#' will be ignored, and an empty message aborts,37mReplace\u001b[m\u001b[m   \u001b[37m\u001b[1m^U\u001b[m\u001b[m \u001b[37mPaste\u001b[m\u001b[m     \u001b[37m\u001b[1m^J\u001b[m\u001b[m \u001b[37mJustify\u001b[m\u001b[m   \u001b[37m\u001b[1m^/\u001b[m\u001b[m \u001b[37mGo To Line\u001b[m\u001b[m/Projects/aws-explorer/.git/MERGE_MSG               \u001b[1;79H\u001b[m\u001b[m\u001b[22;12H\u001b[37m\u001b[1m[ line  1/7 (14%), col  1/69 (  1%), char   0/295 ( 0%) ]\u001b[m\u001b[m\u001b[22;12H                 \u001b[37m\u001b[1m[ Justified paragraph ]\u001b[m\u001b[m\u001b[K\u001b[1;71H\u001b[37m\u001b[1mModified\u001b[m\u001b[m\u001b[3;4H"
     ]
    }
   ],
   "source": [
    "! git merge --no-ff $branch_name"
   ]
  },
  {
   "cell_type": "code",
   "execution_count": null,
   "metadata": {},
   "outputs": [],
   "source": []
  },
  {
   "cell_type": "code",
   "execution_count": null,
   "metadata": {},
   "outputs": [],
   "source": []
  },
  {
   "cell_type": "code",
   "execution_count": null,
   "metadata": {},
   "outputs": [],
   "source": []
  }
 ],
 "metadata": {
  "kernelspec": {
   "display_name": "awsexplorer",
   "language": "python",
   "name": "python3"
  },
  "language_info": {
   "codemirror_mode": {
    "name": "ipython",
    "version": 3
   },
   "file_extension": ".py",
   "mimetype": "text/x-python",
   "name": "python",
   "nbconvert_exporter": "python",
   "pygments_lexer": "ipython3",
   "version": "3.10.9"
  }
 },
 "nbformat": 4,
 "nbformat_minor": 2
}
