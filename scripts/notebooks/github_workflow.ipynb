{
 "cells": [
  {
   "attachments": {},
   "cell_type": "markdown",
   "metadata": {},
   "source": [
    "## Example Branch Names\n",
    "\n",
    "- `git commit -m 'feat: add new button component; add new button components to templates'`  \n",
    "- `git commit -m 'fix: add the stop directive to button component to prevent propagation'`  \n",
    "- `git commit -m 'refactor: rewrite button component in TypeScript'`  \n",
    "- `git commit -m 'chore: write button documentation'`  \n",
    "\n",
    "```bash\n",
    "git commit -m '<category: do something; do some other things>'\n",
    "```"
   ]
  },
  {
   "cell_type": "code",
   "execution_count": null,
   "metadata": {},
   "outputs": [],
   "source": [
    "from IPython.display import Markdown, display\n",
    "\n",
    "\n",
    "def generate_branch_name(type, description):\n",
    "    \"\"\"Generate a branch name from a type and a list of tasks.\"\"\"\n",
    "\n",
    "    # Convert to kabob case\n",
    "    description = description.replace(\" \", \"-\")\n",
    "\n",
    "    if \" \" in description:\n",
    "        raise ValueError(\"Tasks cannot have spaces\")\n",
    "\n",
    "    return f\"{type}/{description}\"\n",
    "\n",
    "\n",
    "# ---------------------------------------------------------------------------- #\n",
    "\n",
    "type = \"chore\"\n",
    "type = \"refactor\"\n",
    "type = \"fix\"\n",
    "type = \"feat\"\n",
    "type = \"chore\"\n",
    "\n",
    "branch_description = \"update tests with fixtures marks and parameters\"\n",
    "\n",
    "\n",
    "# ---------------------------------------------------------------------------- #\n",
    "\n",
    "\n",
    "# ---------------------------------------------------------------------------- #\n",
    "\n",
    "# Construct commit message\n",
    "branch_name = generate_branch_name(type, branch_description)\n",
    "print(branch_name)\n",
    "\n",
    "# Display commit message\n",
    "display(Markdown(f\"# {branch_name}\"))"
   ]
  },
  {
   "cell_type": "code",
   "execution_count": null,
   "metadata": {},
   "outputs": [],
   "source": [
    "# // create a branch and switch to the branch\n",
    "! git checkout -b $branch_name"
   ]
  },
  {
   "cell_type": "code",
   "execution_count": null,
   "metadata": {},
   "outputs": [],
   "source": [
    "\n",
    "# Make sure that the main branch is up to date\n",
    "! git pull origin main\n"
   ]
  },
  {
   "cell_type": "code",
   "execution_count": null,
   "metadata": {},
   "outputs": [],
   "source": [
    "# Once i have completed the work on the branch, i can merge it back into the main branch\n",
    "! git merge main"
   ]
  },
  {
   "cell_type": "code",
   "execution_count": null,
   "metadata": {},
   "outputs": [],
   "source": [
    "! git checkout main"
   ]
  },
  {
   "cell_type": "code",
   "execution_count": null,
   "metadata": {},
   "outputs": [],
   "source": [
    "print(branch_name)"
   ]
  },
  {
   "cell_type": "code",
   "execution_count": null,
   "metadata": {},
   "outputs": [],
   "source": [
    "! git merge --no-ff $branch_name"
   ]
  },
  {
   "cell_type": "code",
   "execution_count": null,
   "metadata": {},
   "outputs": [],
   "source": []
  },
  {
   "cell_type": "code",
   "execution_count": null,
   "metadata": {},
   "outputs": [],
   "source": []
  },
  {
   "cell_type": "code",
   "execution_count": null,
   "metadata": {},
   "outputs": [],
   "source": []
  }
 ],
 "metadata": {
  "kernelspec": {
   "display_name": "awsexplorer",
   "language": "python",
   "name": "python3"
  },
  "language_info": {
   "codemirror_mode": {
    "name": "ipython",
    "version": 3
   },
   "file_extension": ".py",
   "mimetype": "text/x-python",
   "name": "python",
   "nbconvert_exporter": "python",
   "pygments_lexer": "ipython3",
   "version": "3.10.9"
  }
 },
 "nbformat": 4,
 "nbformat_minor": 2
}
