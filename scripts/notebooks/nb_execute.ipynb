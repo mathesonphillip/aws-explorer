{
 "cells": [
  {
   "attachments": {},
   "cell_type": "markdown",
   "metadata": {},
   "source": [
    "# Notebook Execute \n",
    "\n",
    "This notebook is used to execute snippet of the aws-explorer module.\n",
    "Enables for quite testing and fleshing out of ideas.\n"
   ]
  },
  {
   "cell_type": "code",
   "execution_count": null,
   "metadata": {},
   "outputs": [],
   "source": [
    "# Imports\n",
    "from aws_explorer import Account\n",
    "\n",
    "account = Account()\n",
    "\n",
    "print(type(account))\n",
    "\n",
    "# Print the account object\n",
    "print(\"\")\n",
    "print(f\"Raw: { account }\")\n",
    "print(f\"Account: { account.id }\")\n",
    "print(f\"User: { account.user }\")\n",
    "\n",
    "# Print account resource detaiuls\n",
    "print(\"\")\n",
    "print(account.iam.alias)\n",
    "print(account.s3.buckets)\n",
    "print(account.iam.users)\n",
    "print(account.ec2.instances)"
   ]
  },
  {
   "cell_type": "code",
   "execution_count": null,
   "metadata": {},
   "outputs": [],
   "source": [
    "import json\n",
    "\n",
    "# Convert account to dict\n",
    "account_dict = account.to_dict()\n",
    "\n",
    "# Pretty print account\n",
    "print(json.dumps(account_dict, indent=4, default=str))"
   ]
  },
  {
   "cell_type": "code",
   "execution_count": null,
   "metadata": {},
   "outputs": [],
   "source": [
    "# DataFrame from account\n",
    "\n",
    "DataFrame([account_dict]).transpose().style.set_properties(**{\"text-align\": \"left\"})"
   ]
  },
  {
   "cell_type": "code",
   "execution_count": null,
   "metadata": {},
   "outputs": [],
   "source": [
    "# DataFrame from instances\n",
    "DataFrame(account.ec2.instances).sample(2).transpose().style.set_properties(\n",
    "    **{\"text-align\": \"left\"}\n",
    ")"
   ]
  },
  {
   "cell_type": "code",
   "execution_count": null,
   "metadata": {},
   "outputs": [],
   "source": [
    "# DataFrame from users\n",
    "DataFrame(account.iam.users).sample(2).transpose().style.set_properties(\n",
    "    **{\"text-align\": \"left\"}\n",
    ")"
   ]
  },
  {
   "cell_type": "code",
   "execution_count": null,
   "metadata": {},
   "outputs": [],
   "source": [
    "# DataFrame from buckets\n",
    "DataFrame(account.s3.buckets).sample(5).transpose().style.set_properties(\n",
    "    **{\"text-align\": \"left\"}\n",
    ")"
   ]
  }
 ],
 "metadata": {
  "kernelspec": {
   "display_name": "awsexplorer",
   "language": "python",
   "name": "python3"
  },
  "language_info": {
   "codemirror_mode": {
    "name": "ipython",
    "version": 3
   },
   "file_extension": ".py",
   "mimetype": "text/x-python",
   "name": "python",
   "nbconvert_exporter": "python",
   "pygments_lexer": "ipython3",
   "version": "3.10.9"
  }
 },
 "nbformat": 4,
 "nbformat_minor": 2
}
