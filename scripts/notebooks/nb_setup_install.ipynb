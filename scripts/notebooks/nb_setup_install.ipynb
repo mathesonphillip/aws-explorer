{
 "cells": [
  {
   "attachments": {},
   "cell_type": "markdown",
   "metadata": {},
   "source": [
    "\n",
    "# Pytooling\n",
    "\n",
    "Simple notebook to allow quick execution/reference to useful tooling.\n",
    "\n",
    "\n",
    "**Example:**\n",
    "* Run pylint across multiple directories\n",
    "* Execute testing with pytest\n",
    "* Run pre-commit hooks\n",
    "\n"
   ]
  },
  {
   "attachments": {},
   "cell_type": "markdown",
   "metadata": {},
   "source": [
    "## Pylint"
   ]
  },
  {
   "cell_type": "code",
   "execution_count": 2,
   "metadata": {},
   "outputs": [
    {
     "data": {
      "text/markdown": [
       "## Pylint: aws_explorer"
      ],
      "text/plain": [
       "<IPython.core.display.Markdown object>"
      ]
     },
     "metadata": {},
     "output_type": "display_data"
    },
    {
     "data": {
      "text/markdown": [
       "Running pylint on the aws_explorer module."
      ],
      "text/plain": [
       "<IPython.core.display.Markdown object>"
      ]
     },
     "metadata": {},
     "output_type": "display_data"
    },
    {
     "name": "stdout",
     "output_type": "stream",
     "text": [
      "************* Module aws_explorer\n",
      "/home/phil/Projects/aws-explorer/aws_explorer/__init__.py:1:0: C0114: Missing module docstring (missing-module-docstring)\n",
      "************* Module aws_explorer.account\n",
      "/home/phil/Projects/aws-explorer/aws_explorer/account.py:31:8: C0103: Attribute name \"s3\" doesn't conform to snake_case naming style (invalid-name)\n",
      "/home/phil/Projects/aws-explorer/aws_explorer/account.py:199:8: C0103: Attribute name \"id\" doesn't conform to snake_case naming style (invalid-name)\n",
      "/home/phil/Projects/aws-explorer/aws_explorer/account.py:205:8: C0103: Attribute name \"s3\" doesn't conform to snake_case naming style (invalid-name)\n",
      "/home/phil/Projects/aws-explorer/aws_explorer/account.py:186:0: R0902: Too many instance attributes (10/7) (too-many-instance-attributes)\n",
      "************* Module aws_explorer.logger\n",
      "/home/phil/Projects/aws-explorer/aws_explorer/logger.py:11:4: C0103: Variable name \"ch\" doesn't conform to snake_case naming style (invalid-name)\n",
      "\n",
      "------------------------------------------------------------------\n",
      "Your code has been rated at 9.50/10 (previous run: 9.53/10, -0.03)\n",
      "\n"
     ]
    },
    {
     "data": {
      "text/markdown": [
       "## Pylint: /test"
      ],
      "text/plain": [
       "<IPython.core.display.Markdown object>"
      ]
     },
     "metadata": {},
     "output_type": "display_data"
    },
    {
     "data": {
      "text/markdown": [
       "Running pylint on the tests module."
      ],
      "text/plain": [
       "<IPython.core.display.Markdown object>"
      ]
     },
     "metadata": {},
     "output_type": "display_data"
    },
    {
     "name": "stdout",
     "output_type": "stream",
     "text": [
      "************* Module tests.test_ec2_manager\n",
      "/home/phil/Projects/aws-explorer/tests/test_ec2_manager.py:1:0: C0114: Missing module docstring (missing-module-docstring)\n",
      "/home/phil/Projects/aws-explorer/tests/test_ec2_manager.py:8:0: C0116: Missing function or method docstring (missing-function-docstring)\n",
      "/home/phil/Projects/aws-explorer/tests/test_ec2_manager.py:4:0: C0411: standard import \"from random import choice\" should be placed before \"import boto3\" (wrong-import-order)\n",
      "************* Module tests.test_s3_manager\n",
      "/home/phil/Projects/aws-explorer/tests/test_s3_manager.py:1:0: C0114: Missing module docstring (missing-module-docstring)\n",
      "/home/phil/Projects/aws-explorer/tests/test_s3_manager.py:7:0: C0116: Missing function or method docstring (missing-function-docstring)\n",
      "/home/phil/Projects/aws-explorer/tests/test_s3_manager.py:8:4: C0103: Variable name \"s3\" doesn't conform to snake_case naming style (invalid-name)\n",
      "************* Module tests.test_account\n",
      "/home/phil/Projects/aws-explorer/tests/test_account.py:1:0: C0114: Missing module docstring (missing-module-docstring)\n",
      "/home/phil/Projects/aws-explorer/tests/test_account.py:9:0: C0116: Missing function or method docstring (missing-function-docstring)\n",
      "************* Module tests.test_sts_manager\n",
      "/home/phil/Projects/aws-explorer/tests/test_sts_manager.py:1:0: C0114: Missing module docstring (missing-module-docstring)\n",
      "/home/phil/Projects/aws-explorer/tests/test_sts_manager.py:7:0: C0116: Missing function or method docstring (missing-function-docstring)\n",
      "************* Module tests.test_iam_manager\n",
      "/home/phil/Projects/aws-explorer/tests/test_iam_manager.py:1:0: C0114: Missing module docstring (missing-module-docstring)\n",
      "/home/phil/Projects/aws-explorer/tests/test_iam_manager.py:7:0: C0116: Missing function or method docstring (missing-function-docstring)\n",
      "/home/phil/Projects/aws-explorer/tests/test_iam_manager.py:15:0: C0116: Missing function or method docstring (missing-function-docstring)\n",
      "\n",
      "------------------------------------------------------------------\n",
      "Your code has been rated at 7.35/10 (previous run: 7.35/10, +0.00)\n",
      "\n"
     ]
    }
   ],
   "source": [
    "# ---------------------------------------------------------------------------- #\n",
    "#                                    PYLINT                                    #\n",
    "# ---------------------------------------------------------------------------- #\n",
    "# Purpose: Run pylint on the aws_explorer module and the tests module.\n",
    "\n",
    "from IPython.core.display import Markdown\n",
    "from IPython.display import display\n",
    "\n",
    "# ---------------------------------------------------------------------------- #\n",
    "\n",
    "display(Markdown(\"## Pylint: aws_explorer\"))\n",
    "display(Markdown(\"Running pylint on the aws_explorer module.\"))\n",
    "! pylint ../aws_explorer\n",
    "\n",
    "# ---------------------------------------------------------------------------- #\n",
    "\n",
    "display(Markdown(\"## Pylint: /test\"))\n",
    "display(Markdown(\"Running pylint on the tests module.\"))\n",
    "! pylint ../tests"
   ]
  },
  {
   "attachments": {},
   "cell_type": "markdown",
   "metadata": {},
   "source": [
    "## Pytest"
   ]
  },
  {
   "cell_type": "code",
   "execution_count": 3,
   "metadata": {},
   "outputs": [
    {
     "data": {
      "text/markdown": [
       "## Pytest: tests"
      ],
      "text/plain": [
       "<IPython.core.display.Markdown object>"
      ]
     },
     "metadata": {},
     "output_type": "display_data"
    },
    {
     "name": "stdout",
     "output_type": "stream",
     "text": [
      "\u001b[1m============================= test session starts ==============================\u001b[0m\n",
      "platform linux -- Python 3.10.9, pytest-7.2.1, pluggy-1.0.0\n",
      "rootdir: /home/phil/Projects/aws-explorer\n",
      "collected 6 items                                                              \u001b[0m\u001b[1m\n",
      "\n",
      "../tests/test_account.py \u001b[32m.\u001b[0m\u001b[32m                                               [ 16%]\u001b[0m\n",
      "../tests/test_ec2_manager.py \u001b[32m.\u001b[0m\u001b[32m                                           [ 33%]\u001b[0m\n",
      "../tests/test_iam_manager.py \u001b[32m.\u001b[0m\u001b[32m.\u001b[0m\u001b[32m                                          [ 66%]\u001b[0m\n",
      "../tests/test_s3_manager.py \u001b[32m.\u001b[0m\u001b[32m                                            [ 83%]\u001b[0m\n",
      "../tests/test_sts_manager.py \u001b[32m.\u001b[0m\u001b[32m                                           [100%]\u001b[0m\n",
      "\n",
      "\u001b[32m============================== \u001b[32m\u001b[1m6 passed\u001b[0m\u001b[32m in 1.54s\u001b[0m\u001b[32m ===============================\u001b[0m\n"
     ]
    }
   ],
   "source": [
    "# ---------------------------------------------------------------------------- #\n",
    "#                                    PYTEST                                    #\n",
    "# ---------------------------------------------------------------------------- #\n",
    "# Purpose: Run pytest on the tests module.\n",
    "\n",
    "display(Markdown(\"## Pytest: tests\"))\n",
    "! pytest ../tests/"
   ]
  },
  {
   "attachments": {},
   "cell_type": "markdown",
   "metadata": {},
   "source": [
    "## Pre-commit"
   ]
  },
  {
   "cell_type": "code",
   "execution_count": null,
   "metadata": {},
   "outputs": [],
   "source": [
    "# ---------------------------------------------------------------------------- #\n",
    "#                               PRECOMMIT::UPDATE                              #\n",
    "# ---------------------------------------------------------------------------- #\n",
    "# Purpose: Update pre-commit hooks.\n",
    "\n",
    "display(Markdown(\"## Pre-commit: update\"))\n",
    "! pre-commit autoupdate"
   ]
  },
  {
   "cell_type": "code",
   "execution_count": null,
   "metadata": {},
   "outputs": [],
   "source": [
    "# ---------------------------------------------------------------------------- #\n",
    "#                                PRECOMMIT::RUN                               #\n",
    "# ---------------------------------------------------------------------------- #\n",
    "# Purpose: Run pre-commit on all files.\n",
    "\n",
    "display(Markdown(\"## Pre-commit: all files\"))\n",
    "! pre-commit run --all-files\n",
    "\n",
    "# Can add specific use cases here, e.g. pre-commit run --files <file>"
   ]
  },
  {
   "attachments": {},
   "cell_type": "markdown",
   "metadata": {},
   "source": [
    "## Git\n",
    "\n",
    "List of git commands for viewing history, branches, etc.\n",
    "* Common tasks"
   ]
  },
  {
   "cell_type": "code",
   "execution_count": null,
   "metadata": {},
   "outputs": [],
   "source": [
    "# ---------------------------------------------------------------------------- #\n",
    "#                                      GIT                                     #\n",
    "# ---------------------------------------------------------------------------- #\n",
    "\n",
    "display(Markdown(\"## Git: diff --staged\"))\n",
    "! git diff --staged"
   ]
  },
  {
   "cell_type": "code",
   "execution_count": null,
   "metadata": {},
   "outputs": [],
   "source": [
    "# ---------------------------------------------------------------------------- #\n",
    "#                                      GIT                                     #\n",
    "# ---------------------------------------------------------------------------- #\n",
    "\n",
    "display(Markdown(\"## Git: diff --name-only\"))\n",
    "! git diff --name-only"
   ]
  },
  {
   "cell_type": "code",
   "execution_count": null,
   "metadata": {},
   "outputs": [],
   "source": [
    "# ---------------------------------------------------------------------------- #\n",
    "#                                      GIT                                     #\n",
    "# ---------------------------------------------------------------------------- #\n",
    "\n",
    "display(Markdown(\"## Git: reflog\"))\n",
    "! git reflog"
   ]
  },
  {
   "cell_type": "code",
   "execution_count": null,
   "metadata": {},
   "outputs": [],
   "source": [
    "# ---------------------------------------------------------------------------- #\n",
    "#                                      GIT                                     #\n",
    "# ---------------------------------------------------------------------------- #\n",
    "\n",
    "display(Markdown(\"## Git: log\"))\n",
    "! git log"
   ]
  },
  {
   "cell_type": "code",
   "execution_count": null,
   "metadata": {},
   "outputs": [],
   "source": [
    "# ---------------------------------------------------------------------------- #\n",
    "#                                      GIT                                     #\n",
    "# ---------------------------------------------------------------------------- #\n",
    "\n",
    "display(Markdown(\"## Git: branches\"))\n",
    "! git branch"
   ]
  },
  {
   "cell_type": "code",
   "execution_count": null,
   "metadata": {},
   "outputs": [],
   "source": [
    "# ---------------------------------------------------------------------------- #\n",
    "#                                      GIT                                     #\n",
    "# ---------------------------------------------------------------------------- #\n",
    "\n",
    "display(Markdown(\"## Git: tag\"))\n",
    "! git tag"
   ]
  },
  {
   "cell_type": "code",
   "execution_count": null,
   "metadata": {},
   "outputs": [],
   "source": [
    "# ---------------------------------------------------------------------------- #\n",
    "#                                      GIT                                     #\n",
    "# ---------------------------------------------------------------------------- #\n",
    "\n",
    "display(Markdown(\"## Git: diff\"))\n",
    "\n",
    "# Show full blame with blame\n",
    "# ! git blame ../aws_explorer/account.py\n",
    "\n",
    "# ---------------------------------------------------------------------------- #\n",
    "\n",
    "# View author with line number range\n",
    "# ! git blame -L <start_line_number>,<end_line_number> <filename>\n",
    "! git blame -L 20,10 ../aws_explorer/account.py"
   ]
  },
  {
   "cell_type": "code",
   "execution_count": null,
   "metadata": {},
   "outputs": [],
   "source": [
    "# ---------------------------------------------------------------------------- #\n",
    "#                                      GIT                                     #\n",
    "# ---------------------------------------------------------------------------- #\n",
    "\n",
    "display(Markdown(\"## Git: show\"))\n",
    "\n",
    "# Shows the changes made in a specific commit.\n",
    "! git show"
   ]
  },
  {
   "cell_type": "code",
   "execution_count": null,
   "metadata": {},
   "outputs": [],
   "source": [
    "# ---------------------------------------------------------------------------- #\n",
    "#                                      GIT                                     #\n",
    "# ---------------------------------------------------------------------------- #\n",
    "\n",
    "display(Markdown(\"## Git: diff\"))\n",
    "! git diff"
   ]
  },
  {
   "cell_type": "code",
   "execution_count": null,
   "metadata": {},
   "outputs": [],
   "source": [
    "display(Markdown(\"## Git: diff --name-only --staged\"))\n",
    "! git diff --name-only --staged"
   ]
  }
 ],
 "metadata": {
  "kernelspec": {
   "display_name": "awsexplorer",
   "language": "python",
   "name": "python3"
  },
  "language_info": {
   "codemirror_mode": {
    "name": "ipython",
    "version": 3
   },
   "file_extension": ".py",
   "mimetype": "text/x-python",
   "name": "python",
   "nbconvert_exporter": "python",
   "pygments_lexer": "ipython3",
   "version": "3.10.9"
  }
 },
 "nbformat": 4,
 "nbformat_minor": 2
}
