{
 "cells": [
  {
   "attachments": {},
   "cell_type": "markdown",
   "metadata": {},
   "source": [
    "\n",
    "# Pytooling\n",
    "\n",
    "Simple notebook to allow quick execution/reference to useful tooling.\n",
    "\n",
    "\n",
    "**Example:**\n",
    "* Run pylint across multiple directories\n",
    "* Execute testing with pytest\n",
    "* Run pre-commit hooks\n",
    "\n"
   ]
  },
  {
   "attachments": {},
   "cell_type": "markdown",
   "metadata": {},
   "source": [
    "## Pylint"
   ]
  },
  {
   "cell_type": "code",
   "execution_count": null,
   "metadata": {},
   "outputs": [],
   "source": [
    "# ---------------------------------------------------------------------------- #\n",
    "#                                    PYLINT                                    #\n",
    "# ---------------------------------------------------------------------------- #\n",
    "# Purpose: Run pylint on the aws_explorer module and the tests module.\n",
    "\n",
    "from IPython.core.display import Markdown\n",
    "from IPython.display import display\n",
    "\n",
    "# ---------------------------------------------------------------------------- #\n",
    "\n",
    "display(Markdown(\"## Pylint: aws_explorer\"))\n",
    "display(Markdown(\"Running pylint on the aws_explorer module.\"))\n",
    "! pylint ../aws_explorer\n",
    "\n",
    "# ---------------------------------------------------------------------------- #\n",
    "\n",
    "display(Markdown(\"## Pylint: /test\"))\n",
    "display(Markdown(\"Running pylint on the tests module.\"))\n",
    "! pylint ../tests"
   ]
  },
  {
   "attachments": {},
   "cell_type": "markdown",
   "metadata": {},
   "source": [
    "## Pytest"
   ]
  },
  {
   "cell_type": "code",
   "execution_count": null,
   "metadata": {},
   "outputs": [],
   "source": [
    "# ---------------------------------------------------------------------------- #\n",
    "#                                    PYTEST                                    #\n",
    "# ---------------------------------------------------------------------------- #\n",
    "# Purpose: Run pytest on the tests module.\n",
    "\n",
    "display(Markdown(\"## Pytest: tests\"))\n",
    "! pytest ../tests/"
   ]
  },
  {
   "attachments": {},
   "cell_type": "markdown",
   "metadata": {},
   "source": [
    "## Pre-commit"
   ]
  },
  {
   "cell_type": "code",
   "execution_count": null,
   "metadata": {},
   "outputs": [],
   "source": [
    "# ---------------------------------------------------------------------------- #\n",
    "#                               PRECOMMIT::UPDATE                              #\n",
    "# ---------------------------------------------------------------------------- #\n",
    "# Purpose: Update pre-commit hooks.\n",
    "\n",
    "display(Markdown(\"## Pre-commit: update\"))\n",
    "! pre-commit autoupdate"
   ]
  },
  {
   "cell_type": "code",
   "execution_count": null,
   "metadata": {},
   "outputs": [],
   "source": [
    "# ---------------------------------------------------------------------------- #\n",
    "#                                PRECOMMIT::RUN                               #\n",
    "# ---------------------------------------------------------------------------- #\n",
    "# Purpose: Run pre-commit on all files.\n",
    "\n",
    "display(Markdown(\"## Pre-commit: all files\"))\n",
    "! pre-commit run --all-files\n",
    "\n",
    "# Can add specific use cases here, e.g. pre-commit run --files <file>"
   ]
  },
  {
   "attachments": {},
   "cell_type": "markdown",
   "metadata": {},
   "source": [
    "## Git\n",
    "\n",
    "List of git commands for viewing history, branches, etc.\n",
    "* Common tasks"
   ]
  },
  {
   "cell_type": "code",
   "execution_count": null,
   "metadata": {},
   "outputs": [],
   "source": [
    "# ---------------------------------------------------------------------------- #\n",
    "#                                      GIT                                     #\n",
    "# ---------------------------------------------------------------------------- #\n",
    "\n",
    "display(Markdown(\"## Git: diff --staged\"))\n",
    "! git diff --staged"
   ]
  },
  {
   "cell_type": "code",
   "execution_count": null,
   "metadata": {},
   "outputs": [],
   "source": [
    "# ---------------------------------------------------------------------------- #\n",
    "#                                      GIT                                     #\n",
    "# ---------------------------------------------------------------------------- #\n",
    "\n",
    "display(Markdown(\"## Git: diff --name-only\"))\n",
    "! git diff --name-only"
   ]
  },
  {
   "cell_type": "code",
   "execution_count": null,
   "metadata": {},
   "outputs": [],
   "source": [
    "# ---------------------------------------------------------------------------- #\n",
    "#                                      GIT                                     #\n",
    "# ---------------------------------------------------------------------------- #\n",
    "\n",
    "display(Markdown(\"## Git: reflog\"))\n",
    "! git reflog"
   ]
  },
  {
   "cell_type": "code",
   "execution_count": null,
   "metadata": {},
   "outputs": [],
   "source": [
    "# ---------------------------------------------------------------------------- #\n",
    "#                                      GIT                                     #\n",
    "# ---------------------------------------------------------------------------- #\n",
    "\n",
    "display(Markdown(\"## Git: log\"))\n",
    "! git log"
   ]
  },
  {
   "cell_type": "code",
   "execution_count": null,
   "metadata": {},
   "outputs": [],
   "source": [
    "# ---------------------------------------------------------------------------- #\n",
    "#                                      GIT                                     #\n",
    "# ---------------------------------------------------------------------------- #\n",
    "\n",
    "display(Markdown(\"## Git: branches\"))\n",
    "! git branch"
   ]
  },
  {
   "cell_type": "code",
   "execution_count": null,
   "metadata": {},
   "outputs": [],
   "source": [
    "# ---------------------------------------------------------------------------- #\n",
    "#                                      GIT                                     #\n",
    "# ---------------------------------------------------------------------------- #\n",
    "\n",
    "display(Markdown(\"## Git: tag\"))\n",
    "! git tag"
   ]
  },
  {
   "cell_type": "code",
   "execution_count": null,
   "metadata": {},
   "outputs": [],
   "source": [
    "# ---------------------------------------------------------------------------- #\n",
    "#                                      GIT                                     #\n",
    "# ---------------------------------------------------------------------------- #\n",
    "\n",
    "display(Markdown(\"## Git: diff\"))\n",
    "\n",
    "# Show full blame with blame\n",
    "# ! git blame ../aws_explorer/account.py\n",
    "\n",
    "# ---------------------------------------------------------------------------- #\n",
    "\n",
    "# View author with line number range\n",
    "# ! git blame -L <start_line_number>,<end_line_number> <filename>\n",
    "! git blame -L 20,10 ../aws_explorer/account.py"
   ]
  },
  {
   "cell_type": "code",
   "execution_count": null,
   "metadata": {},
   "outputs": [],
   "source": [
    "# ---------------------------------------------------------------------------- #\n",
    "#                                      GIT                                     #\n",
    "# ---------------------------------------------------------------------------- #\n",
    "\n",
    "display(Markdown(\"## Git: show\"))\n",
    "\n",
    "# Shows the changes made in a specific commit.\n",
    "! git show"
   ]
  },
  {
   "cell_type": "code",
   "execution_count": null,
   "metadata": {},
   "outputs": [],
   "source": [
    "# ---------------------------------------------------------------------------- #\n",
    "#                                      GIT                                     #\n",
    "# ---------------------------------------------------------------------------- #\n",
    "\n",
    "display(Markdown(\"## Git: diff\"))\n",
    "! git diff"
   ]
  },
  {
   "cell_type": "code",
   "execution_count": null,
   "metadata": {},
   "outputs": [],
   "source": [
    "display(Markdown(\"## Git: diff --name-only --staged\"))\n",
    "! git diff --name-only --staged"
   ]
  }
 ],
 "metadata": {
  "kernelspec": {
   "display_name": "awsexplorer",
   "language": "python",
   "name": "python3"
  },
  "language_info": {
   "codemirror_mode": {
    "name": "ipython",
    "version": 3
   },
   "file_extension": ".py",
   "mimetype": "text/x-python",
   "name": "python",
   "nbconvert_exporter": "python",
   "pygments_lexer": "ipython3",
   "version": "3.10.9"
  }
 },
 "nbformat": 4,
 "nbformat_minor": 2
}
