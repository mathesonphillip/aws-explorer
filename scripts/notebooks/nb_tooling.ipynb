{
 "cells": [
  {
   "attachments": {},
   "cell_type": "markdown",
   "metadata": {},
   "source": [
    "# Pytooling\n",
    "\n",
    "Simple notebook to allow quick execution/reference to useful tooling.\n",
    "\n",
    "\n",
    "**Example:**\n",
    "- build and install the package in editable mode\n",
    "- view pylint statistics (code quality)\n",
    "- run testing procedurtes\n",
    "- run pre-commit hooks\n",
    "- interact with git commands\n"
   ]
  },
  {
   "cell_type": "code",
   "execution_count": 1,
   "metadata": {},
   "outputs": [
    {
     "name": "stdout",
     "output_type": "stream",
     "text": [
      "running develop\n",
      "/home/phil/Projects/aws-explorer/env/lib/python3.10/site-packages/setuptools/command/easy_install.py:144: EasyInstallDeprecationWarning: easy_install command is deprecated. Use build and pip and other standards-based tools.\n",
      "  warnings.warn(\n",
      "/home/phil/Projects/aws-explorer/env/lib/python3.10/site-packages/setuptools/command/install.py:34: SetuptoolsDeprecationWarning: setup.py install is deprecated. Use build and pip and other standards-based tools.\n",
      "  warnings.warn(\n",
      "running egg_info\n",
      "creating aws_explorer.egg-info\n",
      "writing aws_explorer.egg-info/PKG-INFO\n",
      "writing dependency_links to aws_explorer.egg-info/dependency_links.txt\n",
      "writing requirements to aws_explorer.egg-info/requires.txt\n",
      "writing top-level names to aws_explorer.egg-info/top_level.txt\n",
      "writing manifest file 'aws_explorer.egg-info/SOURCES.txt'\n",
      "reading manifest file 'aws_explorer.egg-info/SOURCES.txt'\n",
      "writing manifest file 'aws_explorer.egg-info/SOURCES.txt'\n",
      "running build_ext\n",
      "Creating /home/phil/Projects/aws-explorer/env/lib/python3.10/site-packages/aws-explorer.egg-link (link to .)\n",
      "Removing aws-explorer 0.1.0 from easy-install.pth file\n",
      "Adding aws-explorer 0.1.0 to easy-install.pth file\n",
      "\n",
      "Installed /home/phil/Projects/aws-explorer/scripts/notebooks\n",
      "Processing dependencies for aws-explorer==0.1.0\n",
      "Searching for boto3==1.24.28\n",
      "Reading https://pypi.org/simple/boto3/\n",
      "/home/phil/Projects/aws-explorer/env/lib/python3.10/site-packages/pkg_resources/__init__.py:123: PkgResourcesDeprecationWarning:  is an invalid version and will not be supported in a future release\n",
      "  warnings.warn(\n",
      "Downloading https://files.pythonhosted.org/packages/21/b1/fafeff38043e4d4c18948109b96df295a7a11350fad32744aaa4e4917004/boto3-1.24.28-py3-none-any.whl#sha256=efce6dcf0b708cf609b2583f0134b1896f4e76c8b1e25702d50c81719a213664\n",
      "Best match: boto3 1.24.28\n",
      "Processing boto3-1.24.28-py3-none-any.whl\n",
      "Installing boto3-1.24.28-py3-none-any.whl to /home/phil/Projects/aws-explorer/env/lib/python3.10/site-packages\n",
      "Adding boto3 1.24.28 to easy-install.pth file\n",
      "\n",
      "Installed /home/phil/Projects/aws-explorer/env/lib/python3.10/site-packages/boto3-1.24.28-py3.10.egg\n",
      "error: botocore 1.29.79 is installed but botocore<1.28.0,>=1.27.28 is required by {'boto3'}\n",
      "#!/usr/bin/env python\n",
      "\n",
      "from setuptools import find_packages, setup\n",
      "\n",
      "setup(\n",
      "    name=\"aws_explorer\",\n",
      "    version=\"0.1.0\",\n",
      "    description=\"A Python package to explore AWS resources\",\n",
      "    author=\"Phillip Matheson\",\n",
      "    url=\"https://github.com/mathesonphillip/aws-explorer\",\n",
      "    author_email=\"matheson.phillip@gmail.com\",\n",
      "    packages=find_packages(),\n",
      "    install_requires=[\n",
      "        \"boto3 == 1.24.28\",\n",
      "        \"Faker == 17.3.0\",\n",
      "        \"moto == 4.1.3\",\n",
      "        \"pytest == 7.2.1\",\n",
      "        \"setuptools == 65.5.0\",\n",
      "    ],\n",
      ")\n",
      "boto3==1.26.79\n",
      "deepmerge==1.1.0\n",
      "moto==4.1.3\n",
      "mypy_boto3_backup==1.26.67\n",
      "mypy_boto3_rds==1.26.72\n",
      "pandas==1.5.3\n",
      "pytest==7.2.1\n",
      "PyYAML==6.0\n",
      "setuptools==65.5.0\n",
      "INFO: Successfully output requirements\n",
      "running sdist\n",
      "running egg_info\n",
      "writing aws_explorer.egg-info/PKG-INFO\n",
      "writing dependency_links to aws_explorer.egg-info/dependency_links.txt\n",
      "writing requirements to aws_explorer.egg-info/requires.txt\n",
      "writing top-level names to aws_explorer.egg-info/top_level.txt\n",
      "reading manifest file 'aws_explorer.egg-info/SOURCES.txt'\n",
      "writing manifest file 'aws_explorer.egg-info/SOURCES.txt'\n",
      "warning: sdist: standard file not found: should have one of README, README.rst, README.txt, README.md\n",
      "\n",
      "running check\n",
      "creating aws_explorer-0.1.0\n",
      "creating aws_explorer-0.1.0/aws_explorer.egg-info\n",
      "copying files to aws_explorer-0.1.0...\n",
      "copying aws_explorer.egg-info/PKG-INFO -> aws_explorer-0.1.0/aws_explorer.egg-info\n",
      "copying aws_explorer.egg-info/SOURCES.txt -> aws_explorer-0.1.0/aws_explorer.egg-info\n",
      "copying aws_explorer.egg-info/dependency_links.txt -> aws_explorer-0.1.0/aws_explorer.egg-info\n",
      "copying aws_explorer.egg-info/requires.txt -> aws_explorer-0.1.0/aws_explorer.egg-info\n",
      "copying aws_explorer.egg-info/top_level.txt -> aws_explorer-0.1.0/aws_explorer.egg-info\n",
      "Writing aws_explorer-0.1.0/setup.cfg\n",
      "creating dist\n",
      "Creating tar archive\n",
      "removing 'aws_explorer-0.1.0' (and everything under it)\n",
      "running bdist_wheel\n",
      "running build\n",
      "/home/phil/Projects/aws-explorer/env/lib/python3.10/site-packages/setuptools/command/install.py:34: SetuptoolsDeprecationWarning: setup.py install is deprecated. Use build and pip and other standards-based tools.\n",
      "  warnings.warn(\n",
      "installing to build/bdist.linux-x86_64/wheel\n",
      "running install\n",
      "running install_egg_info\n",
      "Copying aws_explorer.egg-info to build/bdist.linux-x86_64/wheel/aws_explorer-0.1.0-py3.10.egg-info\n",
      "running install_scripts\n",
      "creating build/bdist.linux-x86_64/wheel/aws_explorer-0.1.0.dist-info/WHEEL\n",
      "creating 'dist/aws_explorer-0.1.0-py3-none-any.whl' and adding 'build/bdist.linux-x86_64/wheel' to it\n",
      "adding 'aws_explorer-0.1.0.dist-info/METADATA'\n",
      "adding 'aws_explorer-0.1.0.dist-info/WHEEL'\n",
      "adding 'aws_explorer-0.1.0.dist-info/top_level.txt'\n",
      "adding 'aws_explorer-0.1.0.dist-info/RECORD'\n",
      "removing build/bdist.linux-x86_64/wheel\n",
      "Obtaining file:///home/phil/Projects/aws-explorer\n",
      "  Installing build dependencies ... \u001b[?25ldone\n",
      "\u001b[?25h  Checking if build backend supports build_editable ... \u001b[?25ldone\n",
      "\u001b[?25h  Getting requirements to build editable ... \u001b[?25ldone\n",
      "\u001b[?25h  Installing backend dependencies ... \u001b[?25ldone\n",
      "\u001b[?25h  Preparing editable metadata (pyproject.toml) ... \u001b[?25ldone\n",
      "\u001b[?25hRequirement already satisfied: setuptools==65.5.0 in /home/phil/Projects/aws-explorer/env/lib/python3.10/site-packages (from aws-explorer==0.1.0) (65.5.0)\n",
      "Requirement already satisfied: moto==4.1.3 in /home/phil/Projects/aws-explorer/env/lib/python3.10/site-packages (from aws-explorer==0.1.0) (4.1.3)\n",
      "Requirement already satisfied: Faker==17.3.0 in /home/phil/Projects/aws-explorer/env/lib/python3.10/site-packages (from aws-explorer==0.1.0) (17.3.0)\n",
      "Requirement already satisfied: pytest==7.2.1 in /home/phil/Projects/aws-explorer/env/lib/python3.10/site-packages (from aws-explorer==0.1.0) (7.2.1)\n",
      "Collecting boto3==1.24.28\n",
      "  Using cached boto3-1.24.28-py3-none-any.whl (132 kB)\n",
      "Collecting botocore<1.28.0,>=1.27.28\n",
      "  Using cached botocore-1.27.96-py3-none-any.whl (9.3 MB)\n",
      "Requirement already satisfied: s3transfer<0.7.0,>=0.6.0 in /home/phil/Projects/aws-explorer/env/lib/python3.10/site-packages (from boto3==1.24.28->aws-explorer==0.1.0) (0.6.0)\n",
      "Requirement already satisfied: jmespath<2.0.0,>=0.7.1 in /home/phil/Projects/aws-explorer/env/lib/python3.10/site-packages (from boto3==1.24.28->aws-explorer==0.1.0) (1.0.1)\n",
      "Requirement already satisfied: python-dateutil>=2.4 in /home/phil/Projects/aws-explorer/env/lib/python3.10/site-packages (from Faker==17.3.0->aws-explorer==0.1.0) (2.8.2)\n",
      "Requirement already satisfied: requests>=2.5 in /home/phil/Projects/aws-explorer/env/lib/python3.10/site-packages (from moto==4.1.3->aws-explorer==0.1.0) (2.28.2)\n",
      "Requirement already satisfied: xmltodict in /home/phil/Projects/aws-explorer/env/lib/python3.10/site-packages (from moto==4.1.3->aws-explorer==0.1.0) (0.13.0)\n",
      "Requirement already satisfied: Jinja2>=2.10.1 in /home/phil/Projects/aws-explorer/env/lib/python3.10/site-packages (from moto==4.1.3->aws-explorer==0.1.0) (3.1.2)\n",
      "Requirement already satisfied: responses>=0.13.0 in /home/phil/Projects/aws-explorer/env/lib/python3.10/site-packages (from moto==4.1.3->aws-explorer==0.1.0) (0.22.0)\n",
      "Requirement already satisfied: werkzeug!=2.2.0,!=2.2.1,>=0.5 in /home/phil/Projects/aws-explorer/env/lib/python3.10/site-packages (from moto==4.1.3->aws-explorer==0.1.0) (2.2.3)\n",
      "Requirement already satisfied: cryptography>=3.3.1 in /home/phil/Projects/aws-explorer/env/lib/python3.10/site-packages (from moto==4.1.3->aws-explorer==0.1.0) (39.0.1)\n",
      "Requirement already satisfied: attrs>=19.2.0 in /home/phil/Projects/aws-explorer/env/lib/python3.10/site-packages (from pytest==7.2.1->aws-explorer==0.1.0) (22.2.0)\n",
      "Requirement already satisfied: iniconfig in /home/phil/Projects/aws-explorer/env/lib/python3.10/site-packages (from pytest==7.2.1->aws-explorer==0.1.0) (2.0.0)\n",
      "Requirement already satisfied: tomli>=1.0.0 in /home/phil/Projects/aws-explorer/env/lib/python3.10/site-packages (from pytest==7.2.1->aws-explorer==0.1.0) (2.0.1)\n",
      "Requirement already satisfied: packaging in /home/phil/Projects/aws-explorer/env/lib/python3.10/site-packages (from pytest==7.2.1->aws-explorer==0.1.0) (23.0)\n",
      "Requirement already satisfied: exceptiongroup>=1.0.0rc8 in /home/phil/Projects/aws-explorer/env/lib/python3.10/site-packages (from pytest==7.2.1->aws-explorer==0.1.0) (1.1.0)\n",
      "Requirement already satisfied: pluggy<2.0,>=0.12 in /home/phil/Projects/aws-explorer/env/lib/python3.10/site-packages (from pytest==7.2.1->aws-explorer==0.1.0) (1.0.0)\n",
      "Requirement already satisfied: urllib3<1.27,>=1.25.4 in /home/phil/Projects/aws-explorer/env/lib/python3.10/site-packages (from botocore<1.28.0,>=1.27.28->boto3==1.24.28->aws-explorer==0.1.0) (1.26.14)\n",
      "Requirement already satisfied: cffi>=1.12 in /home/phil/Projects/aws-explorer/env/lib/python3.10/site-packages (from cryptography>=3.3.1->moto==4.1.3->aws-explorer==0.1.0) (1.15.1)\n",
      "Requirement already satisfied: MarkupSafe>=2.0 in /home/phil/Projects/aws-explorer/env/lib/python3.10/site-packages (from Jinja2>=2.10.1->moto==4.1.3->aws-explorer==0.1.0) (2.1.2)\n",
      "Requirement already satisfied: six>=1.5 in /home/phil/Projects/aws-explorer/env/lib/python3.10/site-packages (from python-dateutil>=2.4->Faker==17.3.0->aws-explorer==0.1.0) (1.16.0)\n",
      "Requirement already satisfied: certifi>=2017.4.17 in /home/phil/Projects/aws-explorer/env/lib/python3.10/site-packages (from requests>=2.5->moto==4.1.3->aws-explorer==0.1.0) (2022.12.7)\n",
      "Requirement already satisfied: idna<4,>=2.5 in /home/phil/Projects/aws-explorer/env/lib/python3.10/site-packages (from requests>=2.5->moto==4.1.3->aws-explorer==0.1.0) (3.4)\n",
      "Requirement already satisfied: charset-normalizer<4,>=2 in /home/phil/Projects/aws-explorer/env/lib/python3.10/site-packages (from requests>=2.5->moto==4.1.3->aws-explorer==0.1.0) (3.0.1)\n",
      "Requirement already satisfied: toml in /home/phil/Projects/aws-explorer/env/lib/python3.10/site-packages (from responses>=0.13.0->moto==4.1.3->aws-explorer==0.1.0) (0.10.2)\n",
      "Requirement already satisfied: types-toml in /home/phil/Projects/aws-explorer/env/lib/python3.10/site-packages (from responses>=0.13.0->moto==4.1.3->aws-explorer==0.1.0) (0.10.8.5)\n",
      "Requirement already satisfied: pycparser in /home/phil/Projects/aws-explorer/env/lib/python3.10/site-packages (from cffi>=1.12->cryptography>=3.3.1->moto==4.1.3->aws-explorer==0.1.0) (2.21)\n",
      "Building wheels for collected packages: aws-explorer\n",
      "  Building editable for aws-explorer (pyproject.toml) ... \u001b[?25ldone\n",
      "\u001b[?25h  Created wheel for aws-explorer: filename=aws_explorer-0.1.0-0.editable-py3-none-any.whl size=2557 sha256=cb553a212a62ea35a99220c7256adf6a1f0eae5fbc553d09aac184e93ca58753\n",
      "  Stored in directory: /tmp/pip-ephem-wheel-cache-r07jwp5t/wheels/44/82/c4/312351da7de4389471574f089a9aa3c976e53289ba4651dbde\n",
      "Successfully built aws-explorer\n",
      "Installing collected packages: botocore, boto3, aws-explorer\n",
      "  Attempting uninstall: botocore\n",
      "    Found existing installation: botocore 1.29.79\n",
      "    Uninstalling botocore-1.29.79:\n",
      "      Successfully uninstalled botocore-1.29.79\n",
      "  Attempting uninstall: boto3\n",
      "    Found existing installation: boto3 1.26.79\n",
      "    Uninstalling boto3-1.26.79:\n",
      "      Successfully uninstalled boto3-1.26.79\n",
      "  Attempting uninstall: aws-explorer\n",
      "    Found existing installation: aws-explorer 0.1.0\n",
      "    Uninstalling aws-explorer-0.1.0:\n",
      "      Successfully uninstalled aws-explorer-0.1.0\n",
      "Successfully installed aws-explorer-0.1.0 boto3-1.24.28 botocore-1.27.96\n",
      "#!/usr/bin/env python\n",
      "\n",
      "from setuptools import find_packages, setup\n",
      "\n",
      "setup(\n",
      "    name=\"aws_explorer\",\n",
      "    version=\"0.1.0\",\n",
      "    description=\"A Python package to explore AWS resources\",\n",
      "    author=\"Phillip Matheson\",\n",
      "    url=\"https://github.com/mathesonphillip/aws-explorer\",\n",
      "    author_email=\"matheson.phillip@gmail.com\",\n",
      "    packages=find_packages(),\n",
      "    install_requires=[\n",
      "        \"boto3 == 1.24.28\",\n",
      "        \"Faker == 17.3.0\",\n",
      "        \"moto == 4.1.3\",\n",
      "        \"pytest == 7.2.1\",\n",
      "        \"setuptools == 65.5.0\",\n",
      "    ],\n",
      ")\n"
     ]
    }
   ],
   "source": [
    "# Print the current setup.py file, this will show dependencies\n",
    "! python ../../setup.py develop\n",
    "! cat ../../setup.py\n",
    "! pipreqs --force ../../ --print\n",
    "! python ../../setup.py sdist bdist_wheel\n",
    "! pip install -e ../../\n",
    "! cat ../../setup.py"
   ]
  },
  {
   "attachments": {},
   "cell_type": "markdown",
   "metadata": {},
   "source": [
    "----\n",
    "## setup.py"
   ]
  },
  {
   "cell_type": "code",
   "execution_count": 3,
   "metadata": {},
   "outputs": [
    {
     "name": "stdout",
     "output_type": "stream",
     "text": [
      "python: can't open file '/home/phil/Projects/aws-explorer/scripts/notebooks/../setup.py': [Errno 2] No such file or directory\n",
      "Obtaining file:///home/phil/Projects/aws-explorer/scripts\n",
      "\u001b[31mERROR: file:///home/phil/Projects/aws-explorer/scripts does not appear to be a Python project: neither 'setup.py' nor 'pyproject.toml' found.\u001b[0m\u001b[31m\n",
      "\u001b[0m"
     ]
    }
   ],
   "source": [
    "# ---------------------------------------------------------------------------- #\n",
    "#                         setup.py && pip install -e .                         #\n",
    "# ---------------------------------------------------------------------------- #\n",
    "# Purpose: Build and install the package locally.\n",
    "\n",
    "\n",
    "# This command will build the package and both a source distribution and a wheel/binary distribution.\n",
    "! python ../setup.py sdist bdist_wheel\n",
    "\n",
    "# You can also use the following command to install the package locally with editable mode.\n",
    "! pip install -e .."
   ]
  },
  {
   "attachments": {},
   "cell_type": "markdown",
   "metadata": {},
   "source": [
    "----\n",
    "## Delete Build"
   ]
  },
  {
   "cell_type": "code",
   "execution_count": 4,
   "metadata": {},
   "outputs": [
    {
     "name": "stdout",
     "output_type": "stream",
     "text": [
      "\u001b[01;34m..\u001b[0m\n",
      "├── \u001b[01;34mnotebooks\u001b[0m\n",
      "│   ├── \u001b[01;34maws_explorer.egg-info\u001b[0m\n",
      "│   ├── \u001b[01;34mbuild\u001b[0m\n",
      "│   ├── \u001b[01;34mdist\u001b[0m\n",
      "│   ├── \u001b[00mnb_execute.ipynb\u001b[0m\n",
      "│   ├── \u001b[00mnb_git.ipynb\u001b[0m\n",
      "│   ├── \u001b[00mnb_setup_install.ipynb\u001b[0m\n",
      "│   ├── \u001b[00mnb_tooling.ipynb\u001b[0m\n",
      "│   └── \u001b[01;32mrun_main.py\u001b[0m\n",
      "├── \u001b[01;32mwatch_and_run.sh\u001b[0m\n",
      "└── \u001b[01;32mwatch_and_test.sh\u001b[0m\n",
      "\n",
      "5 directories, 7 files\n"
     ]
    }
   ],
   "source": [
    "# Print out the project structure.\n",
    "\n",
    "! tree .. -L 2 --gitignore"
   ]
  },
  {
   "cell_type": "code",
   "execution_count": 5,
   "metadata": {},
   "outputs": [],
   "source": [
    "# ---------------------------------------------------------------------------- #\n",
    "#                                      RM                                      #\n",
    "# ---------------------------------------------------------------------------- #\n",
    "\n",
    "# Remove the build, dist, and egg-info directories.\n",
    "! rm -rf ../build\n",
    "! rm -rf ../dist\n",
    "! rm -rf ../aws_explorer.egg-info"
   ]
  },
  {
   "attachments": {},
   "cell_type": "markdown",
   "metadata": {},
   "source": [
    "----\n",
    "## Pylint"
   ]
  },
  {
   "cell_type": "code",
   "execution_count": 6,
   "metadata": {},
   "outputs": [
    {
     "data": {
      "text/markdown": [
       "## Pylint: aws_explorer"
      ],
      "text/plain": [
       "<IPython.core.display.Markdown object>"
      ]
     },
     "metadata": {},
     "output_type": "display_data"
    },
    {
     "data": {
      "text/markdown": [
       "Running pylint on the aws_explorer module."
      ],
      "text/plain": [
       "<IPython.core.display.Markdown object>"
      ]
     },
     "metadata": {},
     "output_type": "display_data"
    },
    {
     "name": "stdout",
     "output_type": "stream",
     "text": [
      "************* Module ../aws_explorer\n",
      "../aws_explorer:1:0: F0001: No module named ../aws_explorer (fatal)\n"
     ]
    },
    {
     "data": {
      "text/markdown": [
       "## Pylint: /test"
      ],
      "text/plain": [
       "<IPython.core.display.Markdown object>"
      ]
     },
     "metadata": {},
     "output_type": "display_data"
    },
    {
     "data": {
      "text/markdown": [
       "Running pylint on the tests module."
      ],
      "text/plain": [
       "<IPython.core.display.Markdown object>"
      ]
     },
     "metadata": {},
     "output_type": "display_data"
    },
    {
     "name": "stdout",
     "output_type": "stream",
     "text": [
      "************* Module ../tests\n",
      "../tests:1:0: F0001: No module named ../tests (fatal)\n"
     ]
    }
   ],
   "source": [
    "# ---------------------------------------------------------------------------- #\n",
    "#                                    PYLINT                                    #\n",
    "# ---------------------------------------------------------------------------- #\n",
    "# Purpose: Run pylint on the aws_explorer module and the tests module.\n",
    "\n",
    "from IPython.core.display import Markdown\n",
    "from IPython.display import display\n",
    "\n",
    "# ---------------------------------------------------------------------------- #\n",
    "\n",
    "display(Markdown(\"## Pylint: aws_explorer\"))\n",
    "display(Markdown(\"Running pylint on the aws_explorer module.\"))\n",
    "! pylint ../aws_explorer\n",
    "\n",
    "# ---------------------------------------------------------------------------- #\n",
    "\n",
    "display(Markdown(\"## Pylint: /test\"))\n",
    "display(Markdown(\"Running pylint on the tests module.\"))\n",
    "! pylint ../tests"
   ]
  },
  {
   "attachments": {},
   "cell_type": "markdown",
   "metadata": {},
   "source": [
    "----\n",
    "## Pytest"
   ]
  },
  {
   "cell_type": "code",
   "execution_count": 8,
   "metadata": {},
   "outputs": [
    {
     "data": {
      "text/markdown": [
       "## Pytest: tests"
      ],
      "text/plain": [
       "<IPython.core.display.Markdown object>"
      ]
     },
     "metadata": {},
     "output_type": "display_data"
    },
    {
     "name": "stdout",
     "output_type": "stream",
     "text": [
      "\u001b[1m============================= test session starts ==============================\u001b[0m\n",
      "platform linux -- Python 3.10.9, pytest-7.2.1, pluggy-1.0.0\n",
      "rootdir: /home/phil/Projects/aws-explorer\n",
      "plugins: Faker-17.3.0\n",
      "collected 64 items                                                             \u001b[0m\u001b[1m\n",
      "\n",
      "../../tests/test_ec2_manager.py \u001b[32m.\u001b[0m\u001b[32m.\u001b[0m\u001b[32m.\u001b[0m\u001b[32m.\u001b[0m\u001b[32m.\u001b[0m\u001b[32m.\u001b[0m\u001b[32m.\u001b[0m\u001b[32m.\u001b[0m\u001b[32m.\u001b[0m\u001b[32m.\u001b[0m\u001b[32m.\u001b[0m\u001b[32m.\u001b[0m\u001b[32m.\u001b[0m\u001b[32m.\u001b[0m\u001b[32m.\u001b[0m\u001b[32m.\u001b[0m\u001b[32m                         [ 25%]\u001b[0m\n",
      "../../tests/test_iam_manager.py \u001b[32m.\u001b[0m\u001b[32m.\u001b[0m\u001b[32m.\u001b[0m\u001b[32m.\u001b[0m\u001b[32m.\u001b[0m\u001b[32m.\u001b[0m\u001b[32m.\u001b[0m\u001b[32m.\u001b[0m\u001b[32m.\u001b[0m\u001b[32m.\u001b[0m\u001b[32m.\u001b[0m\u001b[32m.\u001b[0m\u001b[32m.\u001b[0m\u001b[32m.\u001b[0m\u001b[32m.\u001b[0m\u001b[32m.\u001b[0m\u001b[32m                         [ 50%]\u001b[0m\n",
      "../../tests/test_s3_manager.py \u001b[32m.\u001b[0m\u001b[32m.\u001b[0m\u001b[32m.\u001b[0m\u001b[32m.\u001b[0m\u001b[32m.\u001b[0m\u001b[32m.\u001b[0m\u001b[32m.\u001b[0m\u001b[32m.\u001b[0m\u001b[32m.\u001b[0m\u001b[32m.\u001b[0m\u001b[32m.\u001b[0m\u001b[32m.\u001b[0m\u001b[32m.\u001b[0m\u001b[32m.\u001b[0m\u001b[32m.\u001b[0m\u001b[32m.\u001b[0m\u001b[32m                          [ 75%]\u001b[0m\n",
      "../../tests/test_sts_manager.py \u001b[32m.\u001b[0m\u001b[32m.\u001b[0m\u001b[32m.\u001b[0m\u001b[32m.\u001b[0m\u001b[32m.\u001b[0m\u001b[32m.\u001b[0m\u001b[32m.\u001b[0m\u001b[32m.\u001b[0m\u001b[32m.\u001b[0m\u001b[32m.\u001b[0m\u001b[32m.\u001b[0m\u001b[32m.\u001b[0m\u001b[32m.\u001b[0m\u001b[32m.\u001b[0m\u001b[32m.\u001b[0m\u001b[32m.\u001b[0m\u001b[32m                         [100%]\u001b[0m\n",
      "\n",
      "\u001b[32m============================== \u001b[32m\u001b[1m64 passed\u001b[0m\u001b[32m in 3.07s\u001b[0m\u001b[32m ==============================\u001b[0m\n"
     ]
    }
   ],
   "source": [
    "# ---------------------------------------------------------------------------- #\n",
    "#                                    PYTEST                                    #\n",
    "# ---------------------------------------------------------------------------- #\n",
    "# Purpose: Run pytest on the tests module.\n",
    "\n",
    "display(Markdown(\"## Pytest: tests\"))\n",
    "! pytest ../../tests/"
   ]
  },
  {
   "attachments": {},
   "cell_type": "markdown",
   "metadata": {},
   "source": [
    "----\n",
    "## Pre-commit"
   ]
  },
  {
   "cell_type": "code",
   "execution_count": null,
   "metadata": {},
   "outputs": [],
   "source": [
    "# ---------------------------------------------------------------------------- #\n",
    "#                               PRECOMMIT::UPDATE                              #\n",
    "# ---------------------------------------------------------------------------- #\n",
    "# Purpose: Update pre-commit hooks.\n",
    "from IPython.display import Markdown, display\n",
    "\n",
    "display(Markdown(\"## Pre-commit: update\"))\n",
    "! pre-commit autoupdate"
   ]
  },
  {
   "cell_type": "code",
   "execution_count": 2,
   "metadata": {},
   "outputs": [
    {
     "name": "stdout",
     "output_type": "stream",
     "text": [
      "black....................................................................\u001b[42mPassed\u001b[m\n",
      "flake8...................................................................\u001b[41mFailed\u001b[m\n",
      "\u001b[2m- hook id: flake8\u001b[m\n",
      "\u001b[2m- exit code: 1\u001b[m\n",
      "\n",
      "\u001b[1maws_explorer/account.py\u001b[m\u001b[36m:\u001b[m29\u001b[36m:\u001b[m20\u001b[36m:\u001b[m \u001b[1m\u001b[31mF821\u001b[m undefined name 'STSManager'\n",
      "\u001b[1maws_explorer/account.py\u001b[m\u001b[36m:\u001b[m35\u001b[36m:\u001b[m20\u001b[36m:\u001b[m \u001b[1m\u001b[31mF821\u001b[m undefined name 'IAMManager'\n",
      "\u001b[1maws_explorer/account.py\u001b[m\u001b[36m:\u001b[m38\u001b[36m:\u001b[m19\u001b[36m:\u001b[m \u001b[1m\u001b[31mF821\u001b[m undefined name 'S3Manager'\n",
      "\u001b[1maws_explorer/account.py\u001b[m\u001b[36m:\u001b[m39\u001b[36m:\u001b[m20\u001b[36m:\u001b[m \u001b[1m\u001b[31mF821\u001b[m undefined name 'EC2Manager'\n",
      "\u001b[1maws_explorer/account.py\u001b[m\u001b[36m:\u001b[m41\u001b[36m:\u001b[m19\u001b[36m:\u001b[m \u001b[1m\u001b[31mF821\u001b[m undefined name 'CloudFormationManager'\n",
      "\u001b[1maws_explorer/account.py\u001b[m\u001b[36m:\u001b[m42\u001b[36m:\u001b[m23\u001b[36m:\u001b[m \u001b[1m\u001b[31mF821\u001b[m undefined name 'BackupManager'\n",
      "\u001b[1maws_explorer/account.py\u001b[m\u001b[36m:\u001b[m43\u001b[36m:\u001b[m21\u001b[36m:\u001b[m \u001b[1m\u001b[31mF821\u001b[m undefined name 'lambdaManager'\n",
      "\u001b[1maws_explorer/account.py\u001b[m\u001b[36m:\u001b[m44\u001b[36m:\u001b[m20\u001b[36m:\u001b[m \u001b[1m\u001b[31mF821\u001b[m undefined name 'ECSManager'\n",
      "\u001b[1mscripts/notebooks/run_main.py\u001b[m\u001b[36m:\u001b[m5\u001b[36m:\u001b[m1\u001b[36m:\u001b[m \u001b[1m\u001b[31mF401\u001b[m 'json' imported but unused\n",
      "\u001b[1mtests/test_ec2_manager.py\u001b[m\u001b[36m:\u001b[m25\u001b[36m:\u001b[m13\u001b[36m:\u001b[m \u001b[1m\u001b[31mF841\u001b[m local variable 'ec2' is assigned to but never used\n",
      "\u001b[1mtests/test_ec2_manager.py\u001b[m\u001b[36m:\u001b[m31\u001b[36m:\u001b[m13\u001b[36m:\u001b[m \u001b[1m\u001b[31mF841\u001b[m local variable 'ec2' is assigned to but never used\n",
      "\u001b[1mtests/test_ec2_manager.py\u001b[m\u001b[36m:\u001b[m37\u001b[36m:\u001b[m13\u001b[36m:\u001b[m \u001b[1m\u001b[31mF841\u001b[m local variable 'ec2' is assigned to but never used\n",
      "\u001b[1mtests/test_iam_manager.py\u001b[m\u001b[36m:\u001b[m28\u001b[36m:\u001b[m13\u001b[36m:\u001b[m \u001b[1m\u001b[31mF841\u001b[m local variable 'iam' is assigned to but never used\n",
      "\u001b[1mtests/test_iam_manager.py\u001b[m\u001b[36m:\u001b[m34\u001b[36m:\u001b[m13\u001b[36m:\u001b[m \u001b[1m\u001b[31mF841\u001b[m local variable 'iam' is assigned to but never used\n",
      "\u001b[1mtests/test_iam_manager.py\u001b[m\u001b[36m:\u001b[m40\u001b[36m:\u001b[m13\u001b[36m:\u001b[m \u001b[1m\u001b[31mF841\u001b[m local variable 'iam' is assigned to but never used\n",
      "\u001b[1mtests/test_s3_manager.py\u001b[m\u001b[36m:\u001b[m28\u001b[36m:\u001b[m13\u001b[36m:\u001b[m \u001b[1m\u001b[31mF841\u001b[m local variable 's3' is assigned to but never used\n",
      "\u001b[1mtests/test_s3_manager.py\u001b[m\u001b[36m:\u001b[m34\u001b[36m:\u001b[m13\u001b[36m:\u001b[m \u001b[1m\u001b[31mF841\u001b[m local variable 's3' is assigned to but never used\n",
      "\u001b[1mtests/test_s3_manager.py\u001b[m\u001b[36m:\u001b[m40\u001b[36m:\u001b[m13\u001b[36m:\u001b[m \u001b[1m\u001b[31mF841\u001b[m local variable 's3' is assigned to but never used\n",
      "\u001b[1mtests/test_sts_manager.py\u001b[m\u001b[36m:\u001b[m28\u001b[36m:\u001b[m13\u001b[36m:\u001b[m \u001b[1m\u001b[31mF841\u001b[m local variable 'sts' is assigned to but never used\n",
      "\u001b[1mtests/test_sts_manager.py\u001b[m\u001b[36m:\u001b[m34\u001b[36m:\u001b[m13\u001b[36m:\u001b[m \u001b[1m\u001b[31mF841\u001b[m local variable 'sts' is assigned to but never used\n",
      "\u001b[1mtests/test_sts_manager.py\u001b[m\u001b[36m:\u001b[m40\u001b[36m:\u001b[m13\u001b[36m:\u001b[m \u001b[1m\u001b[31mF841\u001b[m local variable 'sts' is assigned to but never used\n",
      "\n",
      "check json...........................................(no files to check)\u001b[46;30mSkipped\u001b[m\n",
      "check docstring is first.................................................\u001b[42mPassed\u001b[m\n",
      "check that executables have shebangs.....................................\u001b[41mFailed\u001b[m\n",
      "\u001b[2m- hook id: check-executables-have-shebangs\u001b[m\n",
      "\u001b[2m- exit code: 1\u001b[m\n",
      "\n",
      "aws_explorer/account.py: marked executable but has no (or invalid) shebang!\n",
      "  If it isn't supposed to be executable, try: `chmod -x aws_explorer/account.py`\n",
      "  If on Windows, you may also need to: `git add --chmod=-x aws_explorer/account.py`\n",
      "  If it is supposed to be executable, double-check its shebang.\n",
      "\n",
      "check that scripts with shebangs are executable..........................\u001b[42mPassed\u001b[m\n",
      "detect aws credentials...................................................\u001b[42mPassed\u001b[m\n",
      "detect private key.......................................................\u001b[42mPassed\u001b[m\n",
      "mixed line ending........................................................\u001b[42mPassed\u001b[m\n",
      "debug statements (python)................................................\u001b[42mPassed\u001b[m\n",
      "nb-ensure-clean..........................................................\u001b[41mFailed\u001b[m\n",
      "\u001b[2m- hook id: nb-ensure-clean\u001b[m\n",
      "\u001b[2m- exit code: 1\u001b[m\n",
      "\n",
      "Traceback (most recent call last):\n",
      "  File \"/home/phil/.cache/pre-commit/repoor_qf4k1/py_env-python3/bin/nb-ensure-clean\", line 5, in <module>\n",
      "    from nbhooks import main\n",
      "  File \"/home/phil/.cache/pre-commit/repoor_qf4k1/py_env-python3/lib/python3.10/site-packages/nbhooks.py\", line 9, in <module>\n",
      "    import nbformat\n",
      "  File \"/home/phil/.cache/pre-commit/repoor_qf4k1/py_env-python3/lib/python3.10/site-packages/nbformat/__init__.py\", line 14, in <module>\n",
      "    from . import v1\n",
      "  File \"/home/phil/.cache/pre-commit/repoor_qf4k1/py_env-python3/lib/python3.10/site-packages/nbformat/v1/__init__.py\", line 19, in <module>\n",
      "    from .nbjson import reads as reads_json, writes as writes_json\n",
      "  File \"/home/phil/.cache/pre-commit/repoor_qf4k1/py_env-python3/lib/python3.10/site-packages/nbformat/v1/nbjson.py\", line 19, in <module>\n",
      "    from base64 import encodestring\n",
      "ImportError: cannot import name 'encodestring' from 'base64' (/usr/lib/python3.10/base64.py)\n",
      "\n",
      "Run tests................................................................\u001b[41mFailed\u001b[m\n",
      "\u001b[2m- hook id: Run tests\u001b[m\n",
      "\u001b[2m- exit code: 4\u001b[m\n",
      "\n",
      "\u001b[31mImportError while loading conftest '/home/phil/Projects/aws-explorer/tests/conftest.py'.\u001b[0m\n",
      "\u001b[31m\u001b[1m\u001b[31mtests/conftest.py\u001b[0m:7: in <module>\u001b[0m\n",
      "\u001b[31m    \u001b[94mfrom\u001b[39;49;00m \u001b[04m\u001b[96maws_explorer\u001b[39;49;00m \u001b[94mimport\u001b[39;49;00m (\u001b[90m\u001b[39;49;00m\u001b[0m\n",
      "\u001b[31m\u001b[1m\u001b[31maws_explorer/__init__.py\u001b[0m:3: in <module>\u001b[0m\n",
      "\u001b[31m    \u001b[94mfrom\u001b[39;49;00m \u001b[04m\u001b[96m.\u001b[39;49;00m\u001b[04m\u001b[96maccount\u001b[39;49;00m \u001b[94mimport\u001b[39;49;00m EC2Manager\u001b[90m\u001b[39;49;00m\u001b[0m\n",
      "\u001b[31m\u001b[1m\u001b[31mE   ImportError: cannot import name 'EC2Manager' from 'aws_explorer.account' (/home/phil/Projects/aws-explorer/aws_explorer/account.py)\u001b[0m\u001b[0m\n",
      "\u001b[1m============================= test session starts ==============================\u001b[0m\n",
      "platform linux -- Python 3.10.9, pytest-7.2.1, pluggy-1.0.0\n",
      "rootdir: /home/phil/Projects/aws-explorer\n",
      "plugins: Faker-17.3.0\n",
      "collected 0 items                                                              \u001b[0m\n",
      "\n",
      "\u001b[33m============================ \u001b[33mno tests ran\u001b[0m\u001b[33m in 0.01s\u001b[0m\u001b[33m =============================\u001b[0m\n",
      "\u001b[31mERROR: found no collectors for /home/phil/Projects/aws-explorer/docs/CONTRIBUTING.md\n",
      "\u001b[0m\n",
      "\u001b[31mERROR: found no collectors for /home/phil/Projects/aws-explorer/.flake8\n",
      "\u001b[0m\n",
      "\u001b[31mERROR: found no collectors for /home/phil/Projects/aws-explorer/docs/LICENSE.md\n",
      "\u001b[0m\n",
      "\u001b[31mImportError while loading conftest '/home/phil/Projects/aws-explorer/tests/conftest.py'.\u001b[0m\n",
      "\u001b[31m\u001b[1m\u001b[31mtests/conftest.py\u001b[0m:7: in <module>\u001b[0m\n",
      "\u001b[31m    \u001b[94mfrom\u001b[39;49;00m \u001b[04m\u001b[96maws_explorer\u001b[39;49;00m \u001b[94mimport\u001b[39;49;00m (\u001b[90m\u001b[39;49;00m\u001b[0m\n",
      "\u001b[31m\u001b[1m\u001b[31maws_explorer/__init__.py\u001b[0m:3: in <module>\u001b[0m\n",
      "\u001b[31m    \u001b[94mfrom\u001b[39;49;00m \u001b[04m\u001b[96m.\u001b[39;49;00m\u001b[04m\u001b[96maccount\u001b[39;49;00m \u001b[94mimport\u001b[39;49;00m EC2Manager\u001b[90m\u001b[39;49;00m\u001b[0m\n",
      "\u001b[31m\u001b[1m\u001b[31mE   ImportError: cannot import name 'EC2Manager' from 'aws_explorer.account' (/home/phil/Projects/aws-explorer/aws_explorer/account.py)\u001b[0m\u001b[0m\n",
      "\u001b[31mImportError while loading conftest '/home/phil/Projects/aws-explorer/tests/conftest.py'.\u001b[0m\n",
      "\u001b[31m\u001b[1m\u001b[31mtests/conftest.py\u001b[0m:7: in <module>\u001b[0m\n",
      "\u001b[31m    \u001b[94mfrom\u001b[39;49;00m \u001b[04m\u001b[96maws_explorer\u001b[39;49;00m \u001b[94mimport\u001b[39;49;00m (\u001b[90m\u001b[39;49;00m\u001b[0m\n",
      "\u001b[31m\u001b[1m\u001b[31maws_explorer/__init__.py\u001b[0m:3: in <module>\u001b[0m\n",
      "\u001b[31m    \u001b[94mfrom\u001b[39;49;00m \u001b[04m\u001b[96m.\u001b[39;49;00m\u001b[04m\u001b[96maccount\u001b[39;49;00m \u001b[94mimport\u001b[39;49;00m EC2Manager\u001b[90m\u001b[39;49;00m\u001b[0m\n",
      "\u001b[31m\u001b[1m\u001b[31mE   ImportError: cannot import name 'EC2Manager' from 'aws_explorer.account' (/home/phil/Projects/aws-explorer/aws_explorer/account.py)\u001b[0m\u001b[0m\n",
      "\u001b[1m============================= test session starts ==============================\u001b[0m\n",
      "platform linux -- Python 3.10.9, pytest-7.2.1, pluggy-1.0.0\n",
      "rootdir: /home/phil/Projects/aws-explorer\n",
      "plugins: Faker-17.3.0\n",
      "collected 0 items                                                              \u001b[0m\n",
      "\n",
      "\u001b[33m============================ \u001b[33mno tests ran\u001b[0m\u001b[33m in 0.00s\u001b[0m\u001b[33m =============================\u001b[0m\n",
      "\u001b[31mERROR: found no collectors for /home/phil/Projects/aws-explorer/.pylintrc\n",
      "\u001b[0m\n",
      "\u001b[31mERROR: found no collectors for /home/phil/Projects/aws-explorer/scripts/notebooks/nb_tooling.ipynb\n",
      "\u001b[0m\n",
      "\u001b[31mImportError while loading conftest '/home/phil/Projects/aws-explorer/tests/conftest.py'.\u001b[0m\n",
      "\u001b[31m\u001b[1m\u001b[31mtests/conftest.py\u001b[0m:7: in <module>\u001b[0m\n",
      "\u001b[31m    \u001b[94mfrom\u001b[39;49;00m \u001b[04m\u001b[96maws_explorer\u001b[39;49;00m \u001b[94mimport\u001b[39;49;00m (\u001b[90m\u001b[39;49;00m\u001b[0m\n",
      "\u001b[31m\u001b[1m\u001b[31maws_explorer/__init__.py\u001b[0m:3: in <module>\u001b[0m\n",
      "\u001b[31m    \u001b[94mfrom\u001b[39;49;00m \u001b[04m\u001b[96m.\u001b[39;49;00m\u001b[04m\u001b[96maccount\u001b[39;49;00m \u001b[94mimport\u001b[39;49;00m EC2Manager\u001b[90m\u001b[39;49;00m\u001b[0m\n",
      "\u001b[31m\u001b[1m\u001b[31mE   ImportError: cannot import name 'EC2Manager' from 'aws_explorer.account' (/home/phil/Projects/aws-explorer/aws_explorer/account.py)\u001b[0m\u001b[0m\n",
      "\u001b[1m============================= test session starts ==============================\u001b[0m\n",
      "platform linux -- Python 3.10.9, pytest-7.2.1, pluggy-1.0.0\n",
      "rootdir: /home/phil/Projects/aws-explorer\n",
      "plugins: Faker-17.3.0\n",
      "collected 0 items                                                              \u001b[0m\n",
      "\n",
      "\u001b[33m============================ \u001b[33mno tests ran\u001b[0m\u001b[33m in 0.01s\u001b[0m\u001b[33m =============================\u001b[0m\n",
      "\u001b[31mERROR: found no collectors for /home/phil/Projects/aws-explorer/scripts/watch_and_run.sh\n",
      "\u001b[0m\n",
      "\u001b[31mERROR: found no collectors for /home/phil/Projects/aws-explorer/scripts/notebooks/nb_git.ipynb\n",
      "\u001b[0m\n",
      "\n"
     ]
    }
   ],
   "source": [
    "# ---------------------------------------------------------------------------- #\n",
    "#                                PRECOMMIT::RUN                               #\n",
    "# ---------------------------------------------------------------------------- #\n",
    "# Purpose: Run pre-commit on all files.\n",
    "\n",
    "# display(Markdown(\"## Pre-commit: all files\"))\n",
    "! pre-commit run --all-files\n",
    "\n",
    "# Can add specific use cases here, e.g. pre-commit run --files <file>"
   ]
  },
  {
   "attachments": {},
   "cell_type": "markdown",
   "metadata": {},
   "source": [
    "----\n",
    "## Download & Install (GitHub)"
   ]
  },
  {
   "cell_type": "code",
   "execution_count": null,
   "metadata": {},
   "outputs": [],
   "source": [
    "# Download and Install (GitHub)\n",
    "\n",
    "! pip install git+https://github.com/mathesonphillip/aws-explorer"
   ]
  },
  {
   "attachments": {},
   "cell_type": "markdown",
   "metadata": {},
   "source": [
    "----\n",
    "## Git\n",
    "\n",
    "List of git commands for viewing history, branches, etc.\n",
    "* Common tasks"
   ]
  },
  {
   "cell_type": "code",
   "execution_count": null,
   "metadata": {},
   "outputs": [],
   "source": [
    "# ---------------------------------------------------------------------------- #\n",
    "#                                      GIT                                     #\n",
    "# ---------------------------------------------------------------------------- #\n",
    "# Push an existing repository from the command line\n",
    "\n",
    "! git remote add origin https://github.com/mathesonphillip/aws-explorer.git\n",
    "! git branch -M main\n",
    "! git push -u origin main"
   ]
  },
  {
   "cell_type": "code",
   "execution_count": null,
   "metadata": {},
   "outputs": [],
   "source": [
    "# ---------------------------------------------------------------------------- #\n",
    "#                                      GIT                                     #\n",
    "# ---------------------------------------------------------------------------- #\n",
    "\n",
    "display(Markdown(\"## Git: diff --staged\"))\n",
    "! git diff --staged"
   ]
  },
  {
   "cell_type": "code",
   "execution_count": null,
   "metadata": {},
   "outputs": [],
   "source": [
    "# ---------------------------------------------------------------------------- #\n",
    "#                                      GIT                                     #\n",
    "# ---------------------------------------------------------------------------- #\n",
    "\n",
    "display(Markdown(\"## Git: diff --name-only\"))\n",
    "! git diff --name-only"
   ]
  },
  {
   "cell_type": "code",
   "execution_count": null,
   "metadata": {},
   "outputs": [],
   "source": [
    "# ---------------------------------------------------------------------------- #\n",
    "#                                      GIT                                     #\n",
    "# ---------------------------------------------------------------------------- #\n",
    "\n",
    "display(Markdown(\"## Git: reflog\"))\n",
    "! git reflog"
   ]
  },
  {
   "cell_type": "code",
   "execution_count": null,
   "metadata": {},
   "outputs": [],
   "source": [
    "# ---------------------------------------------------------------------------- #\n",
    "#                                      GIT                                     #\n",
    "# ---------------------------------------------------------------------------- #\n",
    "\n",
    "display(Markdown(\"## Git: log\"))\n",
    "! git log"
   ]
  },
  {
   "cell_type": "code",
   "execution_count": null,
   "metadata": {},
   "outputs": [],
   "source": [
    "# ---------------------------------------------------------------------------- #\n",
    "#                                      GIT                                     #\n",
    "# ---------------------------------------------------------------------------- #\n",
    "\n",
    "display(Markdown(\"## Git: branches\"))\n",
    "! git branch"
   ]
  },
  {
   "cell_type": "code",
   "execution_count": null,
   "metadata": {},
   "outputs": [],
   "source": [
    "# ---------------------------------------------------------------------------- #\n",
    "#                                      GIT                                     #\n",
    "# ---------------------------------------------------------------------------- #\n",
    "\n",
    "display(Markdown(\"## Git: tag\"))\n",
    "! git tag"
   ]
  },
  {
   "cell_type": "code",
   "execution_count": null,
   "metadata": {},
   "outputs": [],
   "source": [
    "# ---------------------------------------------------------------------------- #\n",
    "#                                      GIT                                     #\n",
    "# ---------------------------------------------------------------------------- #\n",
    "\n",
    "display(Markdown(\"## Git: diff\"))\n",
    "\n",
    "# Show full blame with blame\n",
    "# ! git blame ../aws_explorer/account.py\n",
    "\n",
    "# ---------------------------------------------------------------------------- #\n",
    "\n",
    "# View author with line number range\n",
    "# ! git blame -L <start_line_number>,<end_line_number> <filename>\n",
    "! git blame -L 20,10 ../aws_explorer/account.py"
   ]
  },
  {
   "cell_type": "code",
   "execution_count": null,
   "metadata": {},
   "outputs": [],
   "source": [
    "# ---------------------------------------------------------------------------- #\n",
    "#                                      GIT                                     #\n",
    "# ---------------------------------------------------------------------------- #\n",
    "\n",
    "display(Markdown(\"## Git: show\"))\n",
    "\n",
    "# Shows the changes made in a specific commit.\n",
    "! git show"
   ]
  },
  {
   "cell_type": "code",
   "execution_count": null,
   "metadata": {},
   "outputs": [],
   "source": [
    "# ---------------------------------------------------------------------------- #\n",
    "#                                      GIT                                     #\n",
    "# ---------------------------------------------------------------------------- #\n",
    "\n",
    "display(Markdown(\"## Git: diff\"))\n",
    "! git diff"
   ]
  },
  {
   "cell_type": "code",
   "execution_count": null,
   "metadata": {},
   "outputs": [],
   "source": [
    "display(Markdown(\"## Git: diff --name-only --staged\"))\n",
    "! git diff --name-only --staged"
   ]
  }
 ],
 "metadata": {
  "kernelspec": {
   "display_name": "awsexplorer",
   "language": "python",
   "name": "python3"
  },
  "language_info": {
   "codemirror_mode": {
    "name": "ipython",
    "version": 3
   },
   "file_extension": ".py",
   "mimetype": "text/x-python",
   "name": "python",
   "nbconvert_exporter": "python",
   "pygments_lexer": "ipython3",
   "version": "3.10.9"
  }
 },
 "nbformat": 4,
 "nbformat_minor": 2
}
