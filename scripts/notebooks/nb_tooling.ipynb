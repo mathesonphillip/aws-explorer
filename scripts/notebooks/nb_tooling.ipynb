{
 "cells": [
  {
   "attachments": {},
   "cell_type": "markdown",
   "metadata": {},
   "source": [
    "# Pytooling\n",
    "\n",
    "Simple notebook to allow quick execution/reference to useful tooling.\n",
    "\n",
    "\n",
    "**Example:**\n",
    "- build and install the package in editable mode\n",
    "- view pylint statistics (code quality)\n",
    "- run testing procedurtes\n",
    "- run pre-commit hooks\n",
    "- interact with git commands\n"
   ]
  },
  {
   "cell_type": "code",
   "execution_count": null,
   "metadata": {},
   "outputs": [],
   "source": [
    "# Print the current setup.py file, this will show dependencies\n",
    "! python ../../setup.py develop\n",
    "! cat ../../setup.py\n",
    "! pipreqs --force ../../ --print\n",
    "! python ../../setup.py sdist bdist_wheel\n",
    "! pip install -e ../../\n",
    "! cat ../../setup.py"
   ]
  },
  {
   "attachments": {},
   "cell_type": "markdown",
   "metadata": {},
   "source": [
    "----\n",
    "## setup.py"
   ]
  },
  {
   "cell_type": "code",
   "execution_count": null,
   "metadata": {},
   "outputs": [],
   "source": [
    "# ---------------------------------------------------------------------------- #\n",
    "#                         setup.py && pip install -e .                         #\n",
    "# ---------------------------------------------------------------------------- #\n",
    "# Purpose: Build and install the package locally.\n",
    "\n",
    "\n",
    "# This command will build the package and both a source distribution and a wheel/binary distribution.\n",
    "! python ../setup.py sdist bdist_wheel\n",
    "\n",
    "# You can also use the following command to install the package locally with editable mode.\n",
    "! pip install -e .."
   ]
  },
  {
   "attachments": {},
   "cell_type": "markdown",
   "metadata": {},
   "source": [
    "----\n",
    "## Delete Build"
   ]
  },
  {
   "cell_type": "code",
   "execution_count": null,
   "metadata": {},
   "outputs": [],
   "source": [
    "# Print out the project structure.\n",
    "\n",
    "! tree .. -L 2 --gitignore"
   ]
  },
  {
   "cell_type": "code",
   "execution_count": null,
   "metadata": {},
   "outputs": [],
   "source": [
    "# ---------------------------------------------------------------------------- #\n",
    "#                                      RM                                      #\n",
    "# ---------------------------------------------------------------------------- #\n",
    "\n",
    "# Remove the build, dist, and egg-info directories.\n",
    "! rm -rf ../build\n",
    "! rm -rf ../dist\n",
    "! rm -rf ../aws_explorer.egg-info"
   ]
  },
  {
   "attachments": {},
   "cell_type": "markdown",
   "metadata": {},
   "source": [
    "----\n",
    "## Pylint"
   ]
  },
  {
   "cell_type": "code",
   "execution_count": null,
   "metadata": {},
   "outputs": [],
   "source": [
    "# ---------------------------------------------------------------------------- #\n",
    "#                                    PYLINT                                    #\n",
    "# ---------------------------------------------------------------------------- #\n",
    "# Purpose: Run pylint on the aws_explorer module and the tests module.\n",
    "\n",
    "from IPython.core.display import Markdown\n",
    "from IPython.display import display\n",
    "\n",
    "# ---------------------------------------------------------------------------- #\n",
    "\n",
    "display(Markdown(\"## Pylint: aws_explorer\"))\n",
    "display(Markdown(\"Running pylint on the aws_explorer module.\"))\n",
    "! pylint ../aws_explorer\n",
    "\n",
    "# ---------------------------------------------------------------------------- #\n",
    "\n",
    "display(Markdown(\"## Pylint: /test\"))\n",
    "display(Markdown(\"Running pylint on the tests module.\"))\n",
    "! pylint ../tests"
   ]
  },
  {
   "attachments": {},
   "cell_type": "markdown",
   "metadata": {},
   "source": [
    "----\n",
    "## Pytest"
   ]
  },
  {
   "cell_type": "code",
   "execution_count": null,
   "metadata": {},
   "outputs": [],
   "source": [
    "# ---------------------------------------------------------------------------- #\n",
    "#                                    PYTEST                                    #\n",
    "# ---------------------------------------------------------------------------- #\n",
    "# Purpose: Run pytest on the tests module.\n",
    "\n",
    "display(Markdown(\"## Pytest: tests\"))\n",
    "! pytest ../../tests/"
   ]
  },
  {
   "attachments": {},
   "cell_type": "markdown",
   "metadata": {},
   "source": [
    "----\n",
    "## Pre-commit"
   ]
  },
  {
   "cell_type": "code",
   "execution_count": null,
   "metadata": {},
   "outputs": [],
   "source": [
    "# ---------------------------------------------------------------------------- #\n",
    "#                               PRECOMMIT::UPDATE                              #\n",
    "# ---------------------------------------------------------------------------- #\n",
    "# Purpose: Update pre-commit hooks.\n",
    "from IPython.display import Markdown, display\n",
    "\n",
    "display(Markdown(\"## Pre-commit: update\"))\n",
    "! pre-commit autoupdate"
   ]
  },
  {
   "cell_type": "code",
   "execution_count": null,
   "metadata": {},
   "outputs": [],
   "source": [
    "# ---------------------------------------------------------------------------- #\n",
    "#                                PRECOMMIT::RUN                               #\n",
    "# ---------------------------------------------------------------------------- #\n",
    "# Purpose: Run pre-commit on all files.\n",
    "\n",
    "# display(Markdown(\"## Pre-commit: all files\"))\n",
    "! pre-commit run --all-files\n",
    "\n",
    "# Can add specific use cases here, e.g. pre-commit run --files <file>"
   ]
  },
  {
   "attachments": {},
   "cell_type": "markdown",
   "metadata": {},
   "source": [
    "----\n",
    "## Download & Install (GitHub)"
   ]
  },
  {
   "cell_type": "code",
   "execution_count": null,
   "metadata": {},
   "outputs": [],
   "source": [
    "# Download and Install (GitHub)\n",
    "\n",
    "! pip install git+https://github.com/mathesonphillip/aws-explorer"
   ]
  },
  {
   "attachments": {},
   "cell_type": "markdown",
   "metadata": {},
   "source": [
    "----\n",
    "## Git\n",
    "\n",
    "List of git commands for viewing history, branches, etc.\n",
    "* Common tasks"
   ]
  },
  {
   "cell_type": "code",
   "execution_count": null,
   "metadata": {},
   "outputs": [],
   "source": [
    "# ---------------------------------------------------------------------------- #\n",
    "#                                      GIT                                     #\n",
    "# ---------------------------------------------------------------------------- #\n",
    "# Push an existing repository from the command line\n",
    "\n",
    "! git remote add origin https://github.com/mathesonphillip/aws-explorer.git\n",
    "! git branch -M main\n",
    "! git push -u origin main"
   ]
  },
  {
   "cell_type": "code",
   "execution_count": null,
   "metadata": {},
   "outputs": [],
   "source": [
    "# ---------------------------------------------------------------------------- #\n",
    "#                                      GIT                                     #\n",
    "# ---------------------------------------------------------------------------- #\n",
    "\n",
    "display(Markdown(\"## Git: diff --staged\"))\n",
    "! git diff --staged"
   ]
  },
  {
   "cell_type": "code",
   "execution_count": null,
   "metadata": {},
   "outputs": [],
   "source": [
    "# ---------------------------------------------------------------------------- #\n",
    "#                                      GIT                                     #\n",
    "# ---------------------------------------------------------------------------- #\n",
    "\n",
    "display(Markdown(\"## Git: diff --name-only\"))\n",
    "! git diff --name-only"
   ]
  },
  {
   "cell_type": "code",
   "execution_count": null,
   "metadata": {},
   "outputs": [],
   "source": [
    "# ---------------------------------------------------------------------------- #\n",
    "#                                      GIT                                     #\n",
    "# ---------------------------------------------------------------------------- #\n",
    "\n",
    "display(Markdown(\"## Git: reflog\"))\n",
    "! git reflog"
   ]
  },
  {
   "cell_type": "code",
   "execution_count": null,
   "metadata": {},
   "outputs": [],
   "source": [
    "# ---------------------------------------------------------------------------- #\n",
    "#                                      GIT                                     #\n",
    "# ---------------------------------------------------------------------------- #\n",
    "\n",
    "display(Markdown(\"## Git: log\"))\n",
    "! git log"
   ]
  },
  {
   "cell_type": "code",
   "execution_count": null,
   "metadata": {},
   "outputs": [],
   "source": [
    "# ---------------------------------------------------------------------------- #\n",
    "#                                      GIT                                     #\n",
    "# ---------------------------------------------------------------------------- #\n",
    "\n",
    "display(Markdown(\"## Git: branches\"))\n",
    "! git branch"
   ]
  },
  {
   "cell_type": "code",
   "execution_count": null,
   "metadata": {},
   "outputs": [],
   "source": [
    "# ---------------------------------------------------------------------------- #\n",
    "#                                      GIT                                     #\n",
    "# ---------------------------------------------------------------------------- #\n",
    "\n",
    "display(Markdown(\"## Git: tag\"))\n",
    "! git tag"
   ]
  },
  {
   "cell_type": "code",
   "execution_count": null,
   "metadata": {},
   "outputs": [],
   "source": [
    "# ---------------------------------------------------------------------------- #\n",
    "#                                      GIT                                     #\n",
    "# ---------------------------------------------------------------------------- #\n",
    "\n",
    "display(Markdown(\"## Git: diff\"))\n",
    "\n",
    "# Show full blame with blame\n",
    "# ! git blame ../aws_explorer/session.py\n",
    "\n",
    "# ---------------------------------------------------------------------------- #\n",
    "\n",
    "# View author with line number range\n",
    "# ! git blame -L <start_line_number>,<end_line_number> <filename>\n",
    "! git blame -L 20,10 ../aws_explorer/session.py"
   ]
  },
  {
   "cell_type": "code",
   "execution_count": null,
   "metadata": {},
   "outputs": [],
   "source": [
    "# ---------------------------------------------------------------------------- #\n",
    "#                                      GIT                                     #\n",
    "# ---------------------------------------------------------------------------- #\n",
    "\n",
    "display(Markdown(\"## Git: show\"))\n",
    "\n",
    "# Shows the changes made in a specific commit.\n",
    "! git show"
   ]
  },
  {
   "cell_type": "code",
   "execution_count": null,
   "metadata": {},
   "outputs": [],
   "source": [
    "# ---------------------------------------------------------------------------- #\n",
    "#                                      GIT                                     #\n",
    "# ---------------------------------------------------------------------------- #\n",
    "\n",
    "display(Markdown(\"## Git: diff\"))\n",
    "! git diff"
   ]
  },
  {
   "cell_type": "code",
   "execution_count": null,
   "metadata": {},
   "outputs": [],
   "source": [
    "display(Markdown(\"## Git: diff --name-only --staged\"))\n",
    "! git diff --name-only --staged"
   ]
  }
 ],
 "metadata": {
  "kernelspec": {
   "display_name": "awsexplorer",
   "language": "python",
   "name": "python3"
  },
  "language_info": {
   "codemirror_mode": {
    "name": "ipython",
    "version": 3
   },
   "file_extension": ".py",
   "mimetype": "text/x-python",
   "name": "python",
   "nbconvert_exporter": "python",
   "pygments_lexer": "ipython3",
   "version": "3.10.9"
  }
 },
 "nbformat": 4,
 "nbformat_minor": 2
}
