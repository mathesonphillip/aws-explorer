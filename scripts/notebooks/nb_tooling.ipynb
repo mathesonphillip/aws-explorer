{
 "cells": [
  {
   "attachments": {},
   "cell_type": "markdown",
   "metadata": {},
   "source": [
    "# Pytooling\n",
    "\n",
    "Simple notebook to allow quick execution/reference to useful tooling.\n",
    "\n",
    "\n",
    "**Example:**\n",
    "- build and install the package in editable mode\n",
    "- view pylint statistics (code quality)\n",
    "- run testing procedurtes\n",
    "- run pre-commit hooks\n",
    "- interact with git commands\n"
   ]
  },
  {
   "cell_type": "code",
   "execution_count": 2,
   "metadata": {},
   "outputs": [
    {
     "name": "stdout",
     "output_type": "stream",
     "text": [
      "#!/usr/bin/env python\n",
      "\n",
      "from setuptools import setup, find_packages\n",
      "\n",
      "setup(\n",
      "    name=\"aws_explorer\",\n",
      "    version=\"0.1.0\",\n",
      "    description=\"A Python package to explore AWS resources\",\n",
      "    author=\"Phillip Matheson\",\n",
      "    url=\"https://github.com/mathesonphillip/aws-explorer\",\n",
      "    author_email=\"matheson.phillip@gmail.com\",\n",
      "    packages=find_packages(),\n",
      "    install_requires=[\n",
      "        \"boto3==1.24.28\",\n",
      "        \"moto==4.1.3\",\n",
      "        \"setuptools==65.5.0\",\n",
      "    ],\n",
      ")\n",
      "boto3==1.24.28\n",
      "Faker==17.3.0\n",
      "moto==4.1.3\n",
      "pytest==7.2.1\n",
      "setuptools==65.5.0\n",
      "INFO: Successfully output requirements\n",
      "running sdist\n",
      "running egg_info\n",
      "creating aws_explorer.egg-info\n",
      "writing aws_explorer.egg-info/PKG-INFO\n",
      "writing dependency_links to aws_explorer.egg-info/dependency_links.txt\n",
      "writing requirements to aws_explorer.egg-info/requires.txt\n",
      "writing top-level names to aws_explorer.egg-info/top_level.txt\n",
      "writing manifest file 'aws_explorer.egg-info/SOURCES.txt'\n",
      "reading manifest file 'aws_explorer.egg-info/SOURCES.txt'\n",
      "writing manifest file 'aws_explorer.egg-info/SOURCES.txt'\n",
      "warning: sdist: standard file not found: should have one of README, README.rst, README.txt, README.md\n",
      "\n",
      "running check\n",
      "creating aws_explorer-0.1.0\n",
      "creating aws_explorer-0.1.0/aws_explorer.egg-info\n",
      "copying files to aws_explorer-0.1.0...\n",
      "copying aws_explorer.egg-info/PKG-INFO -> aws_explorer-0.1.0/aws_explorer.egg-info\n",
      "copying aws_explorer.egg-info/SOURCES.txt -> aws_explorer-0.1.0/aws_explorer.egg-info\n",
      "copying aws_explorer.egg-info/dependency_links.txt -> aws_explorer-0.1.0/aws_explorer.egg-info\n",
      "copying aws_explorer.egg-info/requires.txt -> aws_explorer-0.1.0/aws_explorer.egg-info\n",
      "copying aws_explorer.egg-info/top_level.txt -> aws_explorer-0.1.0/aws_explorer.egg-info\n",
      "Writing aws_explorer-0.1.0/setup.cfg\n",
      "creating dist\n",
      "Creating tar archive\n",
      "removing 'aws_explorer-0.1.0' (and everything under it)\n",
      "running bdist_wheel\n",
      "running build\n",
      "/home/phil/Projects/aws-explorer/env/lib/python3.10/site-packages/setuptools/command/install.py:34: SetuptoolsDeprecationWarning: setup.py install is deprecated. Use build and pip and other standards-based tools.\n",
      "  warnings.warn(\n",
      "installing to build/bdist.linux-x86_64/wheel\n",
      "running install\n",
      "running install_egg_info\n",
      "Copying aws_explorer.egg-info to build/bdist.linux-x86_64/wheel/aws_explorer-0.1.0-py3.10.egg-info\n",
      "running install_scripts\n",
      "creating build/bdist.linux-x86_64/wheel/aws_explorer-0.1.0.dist-info/WHEEL\n",
      "creating 'dist/aws_explorer-0.1.0-py3-none-any.whl' and adding 'build/bdist.linux-x86_64/wheel' to it\n",
      "adding 'aws_explorer-0.1.0.dist-info/METADATA'\n",
      "adding 'aws_explorer-0.1.0.dist-info/WHEEL'\n",
      "adding 'aws_explorer-0.1.0.dist-info/top_level.txt'\n",
      "adding 'aws_explorer-0.1.0.dist-info/RECORD'\n",
      "removing build/bdist.linux-x86_64/wheel\n",
      "Obtaining file:///home/phil/Projects/aws-explorer\n",
      "  Preparing metadata (setup.py) ... \u001b[?25ldone\n",
      "\u001b[?25hRequirement already satisfied: boto3==1.24.28 in /home/phil/Projects/aws-explorer/env/lib/python3.10/site-packages (from aws-explorer==0.1.0) (1.24.28)\n",
      "Requirement already satisfied: moto==4.1.3 in /home/phil/Projects/aws-explorer/env/lib/python3.10/site-packages (from aws-explorer==0.1.0) (4.1.3)\n",
      "Requirement already satisfied: setuptools==65.5.0 in /home/phil/Projects/aws-explorer/env/lib/python3.10/site-packages (from aws-explorer==0.1.0) (65.5.0)\n",
      "Requirement already satisfied: s3transfer<0.7.0,>=0.6.0 in /home/phil/Projects/aws-explorer/env/lib/python3.10/site-packages (from boto3==1.24.28->aws-explorer==0.1.0) (0.6.0)\n",
      "Requirement already satisfied: jmespath<2.0.0,>=0.7.1 in /home/phil/Projects/aws-explorer/env/lib/python3.10/site-packages (from boto3==1.24.28->aws-explorer==0.1.0) (1.0.1)\n",
      "Requirement already satisfied: botocore<1.28.0,>=1.27.28 in /home/phil/Projects/aws-explorer/env/lib/python3.10/site-packages (from boto3==1.24.28->aws-explorer==0.1.0) (1.27.96)\n",
      "Requirement already satisfied: python-dateutil<3.0.0,>=2.1 in /home/phil/Projects/aws-explorer/env/lib/python3.10/site-packages (from moto==4.1.3->aws-explorer==0.1.0) (2.8.2)\n",
      "Requirement already satisfied: werkzeug!=2.2.0,!=2.2.1,>=0.5 in /home/phil/Projects/aws-explorer/env/lib/python3.10/site-packages (from moto==4.1.3->aws-explorer==0.1.0) (2.2.3)\n",
      "Requirement already satisfied: Jinja2>=2.10.1 in /home/phil/Projects/aws-explorer/env/lib/python3.10/site-packages (from moto==4.1.3->aws-explorer==0.1.0) (3.1.2)\n",
      "Requirement already satisfied: responses>=0.13.0 in /home/phil/Projects/aws-explorer/env/lib/python3.10/site-packages (from moto==4.1.3->aws-explorer==0.1.0) (0.22.0)\n",
      "Requirement already satisfied: cryptography>=3.3.1 in /home/phil/Projects/aws-explorer/env/lib/python3.10/site-packages (from moto==4.1.3->aws-explorer==0.1.0) (39.0.1)\n",
      "Requirement already satisfied: xmltodict in /home/phil/Projects/aws-explorer/env/lib/python3.10/site-packages (from moto==4.1.3->aws-explorer==0.1.0) (0.13.0)\n",
      "Requirement already satisfied: requests>=2.5 in /home/phil/Projects/aws-explorer/env/lib/python3.10/site-packages (from moto==4.1.3->aws-explorer==0.1.0) (2.28.2)\n",
      "Requirement already satisfied: urllib3<1.27,>=1.25.4 in /home/phil/Projects/aws-explorer/env/lib/python3.10/site-packages (from botocore<1.28.0,>=1.27.28->boto3==1.24.28->aws-explorer==0.1.0) (1.26.14)\n",
      "Requirement already satisfied: cffi>=1.12 in /home/phil/Projects/aws-explorer/env/lib/python3.10/site-packages (from cryptography>=3.3.1->moto==4.1.3->aws-explorer==0.1.0) (1.15.1)\n",
      "Requirement already satisfied: MarkupSafe>=2.0 in /home/phil/Projects/aws-explorer/env/lib/python3.10/site-packages (from Jinja2>=2.10.1->moto==4.1.3->aws-explorer==0.1.0) (2.1.2)\n",
      "Requirement already satisfied: six>=1.5 in /home/phil/Projects/aws-explorer/env/lib/python3.10/site-packages (from python-dateutil<3.0.0,>=2.1->moto==4.1.3->aws-explorer==0.1.0) (1.16.0)\n",
      "Requirement already satisfied: charset-normalizer<4,>=2 in /home/phil/Projects/aws-explorer/env/lib/python3.10/site-packages (from requests>=2.5->moto==4.1.3->aws-explorer==0.1.0) (3.0.1)\n",
      "Requirement already satisfied: certifi>=2017.4.17 in /home/phil/Projects/aws-explorer/env/lib/python3.10/site-packages (from requests>=2.5->moto==4.1.3->aws-explorer==0.1.0) (2022.12.7)\n",
      "Requirement already satisfied: idna<4,>=2.5 in /home/phil/Projects/aws-explorer/env/lib/python3.10/site-packages (from requests>=2.5->moto==4.1.3->aws-explorer==0.1.0) (3.4)\n",
      "Requirement already satisfied: toml in /home/phil/Projects/aws-explorer/env/lib/python3.10/site-packages (from responses>=0.13.0->moto==4.1.3->aws-explorer==0.1.0) (0.10.2)\n",
      "Requirement already satisfied: types-toml in /home/phil/Projects/aws-explorer/env/lib/python3.10/site-packages (from responses>=0.13.0->moto==4.1.3->aws-explorer==0.1.0) (0.10.8.5)\n",
      "Requirement already satisfied: pycparser in /home/phil/Projects/aws-explorer/env/lib/python3.10/site-packages (from cffi>=1.12->cryptography>=3.3.1->moto==4.1.3->aws-explorer==0.1.0) (2.21)\n",
      "Installing collected packages: aws-explorer\n",
      "  Attempting uninstall: aws-explorer\n",
      "    Found existing installation: aws-explorer 0.1.0\n",
      "    Uninstalling aws-explorer-0.1.0:\n",
      "      Successfully uninstalled aws-explorer-0.1.0\n",
      "  Running setup.py develop for aws-explorer\n",
      "Successfully installed aws-explorer-0.1.0\n",
      "#!/usr/bin/env python\n",
      "\n",
      "from setuptools import setup, find_packages\n",
      "\n",
      "setup(\n",
      "    name=\"aws_explorer\",\n",
      "    version=\"0.1.0\",\n",
      "    description=\"A Python package to explore AWS resources\",\n",
      "    author=\"Phillip Matheson\",\n",
      "    url=\"https://github.com/mathesonphillip/aws-explorer\",\n",
      "    author_email=\"matheson.phillip@gmail.com\",\n",
      "    packages=find_packages(),\n",
      "    install_requires=[\n",
      "        \"boto3==1.24.28\",\n",
      "        \"moto==4.1.3\",\n",
      "        \"setuptools==65.5.0\",\n",
      "    ],\n",
      ")\n"
     ]
    }
   ],
   "source": [
    "# Print the current setup.py file, this will show dependencies\n",
    "! cat ../../setup.py\n",
    "! pipreqs --force ../../ --print\n",
    "! python ../../setup.py sdist bdist_wheel\n",
    "! pip install -e ../../\n",
    "! cat ../../setup.py"
   ]
  },
  {
   "attachments": {},
   "cell_type": "markdown",
   "metadata": {},
   "source": [
    "----\n",
    "## setup.py"
   ]
  },
  {
   "cell_type": "code",
   "execution_count": 10,
   "metadata": {},
   "outputs": [
    {
     "name": "stdout",
     "output_type": "stream",
     "text": [
      "running sdist\n",
      "running egg_info\n",
      "creating aws_explorer.egg-info\n",
      "writing aws_explorer.egg-info/PKG-INFO\n",
      "writing dependency_links to aws_explorer.egg-info/dependency_links.txt\n",
      "writing requirements to aws_explorer.egg-info/requires.txt\n",
      "writing top-level names to aws_explorer.egg-info/top_level.txt\n",
      "writing manifest file 'aws_explorer.egg-info/SOURCES.txt'\n",
      "reading manifest file 'aws_explorer.egg-info/SOURCES.txt'\n",
      "writing manifest file 'aws_explorer.egg-info/SOURCES.txt'\n",
      "warning: sdist: standard file not found: should have one of README, README.rst, README.txt, README.md\n",
      "\n",
      "running check\n",
      "creating aws_explorer-0.1.0\n",
      "creating aws_explorer-0.1.0/aws_explorer.egg-info\n",
      "copying files to aws_explorer-0.1.0...\n",
      "copying aws_explorer.egg-info/PKG-INFO -> aws_explorer-0.1.0/aws_explorer.egg-info\n",
      "copying aws_explorer.egg-info/SOURCES.txt -> aws_explorer-0.1.0/aws_explorer.egg-info\n",
      "copying aws_explorer.egg-info/dependency_links.txt -> aws_explorer-0.1.0/aws_explorer.egg-info\n",
      "copying aws_explorer.egg-info/requires.txt -> aws_explorer-0.1.0/aws_explorer.egg-info\n",
      "copying aws_explorer.egg-info/top_level.txt -> aws_explorer-0.1.0/aws_explorer.egg-info\n",
      "Writing aws_explorer-0.1.0/setup.cfg\n",
      "creating dist\n",
      "Creating tar archive\n",
      "removing 'aws_explorer-0.1.0' (and everything under it)\n",
      "running bdist_wheel\n",
      "running build\n",
      "/home/phil/Projects/aws-explorer/env/lib/python3.10/site-packages/setuptools/command/install.py:34: SetuptoolsDeprecationWarning: setup.py install is deprecated. Use build and pip and other standards-based tools.\n",
      "  warnings.warn(\n",
      "installing to build/bdist.linux-x86_64/wheel\n",
      "running install\n",
      "running install_egg_info\n",
      "Copying aws_explorer.egg-info to build/bdist.linux-x86_64/wheel/aws_explorer-0.1.0-py3.10.egg-info\n",
      "running install_scripts\n",
      "creating build/bdist.linux-x86_64/wheel/aws_explorer-0.1.0.dist-info/WHEEL\n",
      "creating 'dist/aws_explorer-0.1.0-py3-none-any.whl' and adding 'build/bdist.linux-x86_64/wheel' to it\n",
      "adding 'aws_explorer-0.1.0.dist-info/METADATA'\n",
      "adding 'aws_explorer-0.1.0.dist-info/WHEEL'\n",
      "adding 'aws_explorer-0.1.0.dist-info/top_level.txt'\n",
      "adding 'aws_explorer-0.1.0.dist-info/RECORD'\n",
      "removing build/bdist.linux-x86_64/wheel\n",
      "Obtaining file:///home/phil/Projects/aws-explorer\n",
      "  Preparing metadata (setup.py) ... \u001b[?25ldone\n",
      "\u001b[?25hRequirement already satisfied: boto3==1.24.28 in /home/phil/Projects/aws-explorer/env/lib/python3.10/site-packages (from aws-explorer==0.1.0) (1.24.28)\n",
      "Requirement already satisfied: moto==4.1.3 in /home/phil/Projects/aws-explorer/env/lib/python3.10/site-packages (from aws-explorer==0.1.0) (4.1.3)\n",
      "Requirement already satisfied: setuptools==65.5.0 in /home/phil/Projects/aws-explorer/env/lib/python3.10/site-packages (from aws-explorer==0.1.0) (65.5.0)\n",
      "Requirement already satisfied: jmespath<2.0.0,>=0.7.1 in /home/phil/Projects/aws-explorer/env/lib/python3.10/site-packages (from boto3==1.24.28->aws-explorer==0.1.0) (1.0.1)\n",
      "Requirement already satisfied: s3transfer<0.7.0,>=0.6.0 in /home/phil/Projects/aws-explorer/env/lib/python3.10/site-packages (from boto3==1.24.28->aws-explorer==0.1.0) (0.6.0)\n",
      "Requirement already satisfied: botocore<1.28.0,>=1.27.28 in /home/phil/Projects/aws-explorer/env/lib/python3.10/site-packages (from boto3==1.24.28->aws-explorer==0.1.0) (1.27.96)\n",
      "Requirement already satisfied: werkzeug!=2.2.0,!=2.2.1,>=0.5 in /home/phil/Projects/aws-explorer/env/lib/python3.10/site-packages (from moto==4.1.3->aws-explorer==0.1.0) (2.2.3)\n",
      "Requirement already satisfied: Jinja2>=2.10.1 in /home/phil/Projects/aws-explorer/env/lib/python3.10/site-packages (from moto==4.1.3->aws-explorer==0.1.0) (3.1.2)\n",
      "Requirement already satisfied: cryptography>=3.3.1 in /home/phil/Projects/aws-explorer/env/lib/python3.10/site-packages (from moto==4.1.3->aws-explorer==0.1.0) (39.0.1)\n",
      "Requirement already satisfied: requests>=2.5 in /home/phil/Projects/aws-explorer/env/lib/python3.10/site-packages (from moto==4.1.3->aws-explorer==0.1.0) (2.28.2)\n",
      "Requirement already satisfied: python-dateutil<3.0.0,>=2.1 in /home/phil/Projects/aws-explorer/env/lib/python3.10/site-packages (from moto==4.1.3->aws-explorer==0.1.0) (2.8.2)\n",
      "Requirement already satisfied: responses>=0.13.0 in /home/phil/Projects/aws-explorer/env/lib/python3.10/site-packages (from moto==4.1.3->aws-explorer==0.1.0) (0.22.0)\n",
      "Requirement already satisfied: xmltodict in /home/phil/Projects/aws-explorer/env/lib/python3.10/site-packages (from moto==4.1.3->aws-explorer==0.1.0) (0.13.0)\n",
      "Requirement already satisfied: urllib3<1.27,>=1.25.4 in /home/phil/Projects/aws-explorer/env/lib/python3.10/site-packages (from botocore<1.28.0,>=1.27.28->boto3==1.24.28->aws-explorer==0.1.0) (1.26.14)\n",
      "Requirement already satisfied: cffi>=1.12 in /home/phil/Projects/aws-explorer/env/lib/python3.10/site-packages (from cryptography>=3.3.1->moto==4.1.3->aws-explorer==0.1.0) (1.15.1)\n",
      "Requirement already satisfied: MarkupSafe>=2.0 in /home/phil/Projects/aws-explorer/env/lib/python3.10/site-packages (from Jinja2>=2.10.1->moto==4.1.3->aws-explorer==0.1.0) (2.1.2)\n",
      "Requirement already satisfied: six>=1.5 in /home/phil/Projects/aws-explorer/env/lib/python3.10/site-packages (from python-dateutil<3.0.0,>=2.1->moto==4.1.3->aws-explorer==0.1.0) (1.16.0)\n",
      "Requirement already satisfied: certifi>=2017.4.17 in /home/phil/Projects/aws-explorer/env/lib/python3.10/site-packages (from requests>=2.5->moto==4.1.3->aws-explorer==0.1.0) (2022.12.7)\n",
      "Requirement already satisfied: idna<4,>=2.5 in /home/phil/Projects/aws-explorer/env/lib/python3.10/site-packages (from requests>=2.5->moto==4.1.3->aws-explorer==0.1.0) (3.4)\n",
      "Requirement already satisfied: charset-normalizer<4,>=2 in /home/phil/Projects/aws-explorer/env/lib/python3.10/site-packages (from requests>=2.5->moto==4.1.3->aws-explorer==0.1.0) (3.0.1)\n",
      "Requirement already satisfied: types-toml in /home/phil/Projects/aws-explorer/env/lib/python3.10/site-packages (from responses>=0.13.0->moto==4.1.3->aws-explorer==0.1.0) (0.10.8.5)\n",
      "Requirement already satisfied: toml in /home/phil/Projects/aws-explorer/env/lib/python3.10/site-packages (from responses>=0.13.0->moto==4.1.3->aws-explorer==0.1.0) (0.10.2)\n",
      "Requirement already satisfied: pycparser in /home/phil/Projects/aws-explorer/env/lib/python3.10/site-packages (from cffi>=1.12->cryptography>=3.3.1->moto==4.1.3->aws-explorer==0.1.0) (2.21)\n",
      "Installing collected packages: aws-explorer\n",
      "  Running setup.py develop for aws-explorer\n",
      "Successfully installed aws-explorer-0.1.0\n"
     ]
    }
   ],
   "source": [
    "# ---------------------------------------------------------------------------- #\n",
    "#                         setup.py && pip install -e .                         #\n",
    "# ---------------------------------------------------------------------------- #\n",
    "# Purpose: Build and install the package locally.\n",
    "\n",
    "\n",
    "# This command will build the package and both a source distribution and a wheel/binary distribution.\n",
    "! python ../setup.py sdist bdist_wheel\n",
    "\n",
    "# You can also use the following command to install the package locally with editable mode.\n",
    "! pip install -e .."
   ]
  },
  {
   "attachments": {},
   "cell_type": "markdown",
   "metadata": {},
   "source": [
    "----\n",
    "## Delete Build"
   ]
  },
  {
   "cell_type": "code",
   "execution_count": null,
   "metadata": {},
   "outputs": [],
   "source": [
    "# Print out the project structure.\n",
    "\n",
    "! tree .. -L 2 --gitignore"
   ]
  },
  {
   "cell_type": "code",
   "execution_count": null,
   "metadata": {},
   "outputs": [],
   "source": [
    "# ---------------------------------------------------------------------------- #\n",
    "#                                      RM                                      #\n",
    "# ---------------------------------------------------------------------------- #\n",
    "\n",
    "# Remove the build, dist, and egg-info directories.\n",
    "! rm -rf ../build\n",
    "! rm -rf ../dist\n",
    "! rm -rf ../aws_explorer.egg-info"
   ]
  },
  {
   "attachments": {},
   "cell_type": "markdown",
   "metadata": {},
   "source": [
    "----\n",
    "## Pylint"
   ]
  },
  {
   "cell_type": "code",
   "execution_count": null,
   "metadata": {},
   "outputs": [],
   "source": [
    "# ---------------------------------------------------------------------------- #\n",
    "#                                    PYLINT                                    #\n",
    "# ---------------------------------------------------------------------------- #\n",
    "# Purpose: Run pylint on the aws_explorer module and the tests module.\n",
    "\n",
    "from IPython.core.display import Markdown\n",
    "from IPython.display import display\n",
    "\n",
    "# ---------------------------------------------------------------------------- #\n",
    "\n",
    "display(Markdown(\"## Pylint: aws_explorer\"))\n",
    "display(Markdown(\"Running pylint on the aws_explorer module.\"))\n",
    "! pylint ../aws_explorer\n",
    "\n",
    "# ---------------------------------------------------------------------------- #\n",
    "\n",
    "display(Markdown(\"## Pylint: /test\"))\n",
    "display(Markdown(\"Running pylint on the tests module.\"))\n",
    "! pylint ../tests"
   ]
  },
  {
   "attachments": {},
   "cell_type": "markdown",
   "metadata": {},
   "source": [
    "----\n",
    "## Pytest"
   ]
  },
  {
   "cell_type": "code",
   "execution_count": null,
   "metadata": {},
   "outputs": [],
   "source": [
    "# ---------------------------------------------------------------------------- #\n",
    "#                                    PYTEST                                    #\n",
    "# ---------------------------------------------------------------------------- #\n",
    "# Purpose: Run pytest on the tests module.\n",
    "\n",
    "display(Markdown(\"## Pytest: tests\"))\n",
    "! pytest ../tests/"
   ]
  },
  {
   "attachments": {},
   "cell_type": "markdown",
   "metadata": {},
   "source": [
    "----\n",
    "## Pre-commit"
   ]
  },
  {
   "cell_type": "code",
   "execution_count": null,
   "metadata": {},
   "outputs": [],
   "source": [
    "# ---------------------------------------------------------------------------- #\n",
    "#                               PRECOMMIT::UPDATE                              #\n",
    "# ---------------------------------------------------------------------------- #\n",
    "# Purpose: Update pre-commit hooks.\n",
    "from IPython.display import Markdown, display\n",
    "\n",
    "display(Markdown(\"## Pre-commit: update\"))\n",
    "! pre-commit autoupdate"
   ]
  },
  {
   "cell_type": "code",
   "execution_count": null,
   "metadata": {},
   "outputs": [],
   "source": [
    "# ---------------------------------------------------------------------------- #\n",
    "#                                PRECOMMIT::RUN                               #\n",
    "# ---------------------------------------------------------------------------- #\n",
    "# Purpose: Run pre-commit on all files.\n",
    "\n",
    "display(Markdown(\"## Pre-commit: all files\"))\n",
    "! pre-commit run --all-files\n",
    "\n",
    "# Can add specific use cases here, e.g. pre-commit run --files <file>"
   ]
  },
  {
   "attachments": {},
   "cell_type": "markdown",
   "metadata": {},
   "source": [
    "----\n",
    "## Download & Install (GitHub)"
   ]
  },
  {
   "cell_type": "code",
   "execution_count": null,
   "metadata": {},
   "outputs": [],
   "source": [
    "# Download and Install (GitHub)\n",
    "\n",
    "! pip install git+https://github.com/mathesonphillip/aws-explorer"
   ]
  },
  {
   "attachments": {},
   "cell_type": "markdown",
   "metadata": {},
   "source": [
    "----\n",
    "## Git\n",
    "\n",
    "List of git commands for viewing history, branches, etc.\n",
    "* Common tasks"
   ]
  },
  {
   "cell_type": "code",
   "execution_count": null,
   "metadata": {},
   "outputs": [],
   "source": [
    "# ---------------------------------------------------------------------------- #\n",
    "#                                      GIT                                     #\n",
    "# ---------------------------------------------------------------------------- #\n",
    "# Push an existing repository from the command line\n",
    "\n",
    "! git remote add origin https://github.com/mathesonphillip/aws-explorer.git\n",
    "! git branch -M main\n",
    "! git push -u origin main"
   ]
  },
  {
   "cell_type": "code",
   "execution_count": null,
   "metadata": {},
   "outputs": [],
   "source": [
    "# ---------------------------------------------------------------------------- #\n",
    "#                                      GIT                                     #\n",
    "# ---------------------------------------------------------------------------- #\n",
    "\n",
    "display(Markdown(\"## Git: diff --staged\"))\n",
    "! git diff --staged"
   ]
  },
  {
   "cell_type": "code",
   "execution_count": null,
   "metadata": {},
   "outputs": [],
   "source": [
    "# ---------------------------------------------------------------------------- #\n",
    "#                                      GIT                                     #\n",
    "# ---------------------------------------------------------------------------- #\n",
    "\n",
    "display(Markdown(\"## Git: diff --name-only\"))\n",
    "! git diff --name-only"
   ]
  },
  {
   "cell_type": "code",
   "execution_count": null,
   "metadata": {},
   "outputs": [],
   "source": [
    "# ---------------------------------------------------------------------------- #\n",
    "#                                      GIT                                     #\n",
    "# ---------------------------------------------------------------------------- #\n",
    "\n",
    "display(Markdown(\"## Git: reflog\"))\n",
    "! git reflog"
   ]
  },
  {
   "cell_type": "code",
   "execution_count": null,
   "metadata": {},
   "outputs": [],
   "source": [
    "# ---------------------------------------------------------------------------- #\n",
    "#                                      GIT                                     #\n",
    "# ---------------------------------------------------------------------------- #\n",
    "\n",
    "display(Markdown(\"## Git: log\"))\n",
    "! git log"
   ]
  },
  {
   "cell_type": "code",
   "execution_count": null,
   "metadata": {},
   "outputs": [],
   "source": [
    "# ---------------------------------------------------------------------------- #\n",
    "#                                      GIT                                     #\n",
    "# ---------------------------------------------------------------------------- #\n",
    "\n",
    "display(Markdown(\"## Git: branches\"))\n",
    "! git branch"
   ]
  },
  {
   "cell_type": "code",
   "execution_count": null,
   "metadata": {},
   "outputs": [],
   "source": [
    "# ---------------------------------------------------------------------------- #\n",
    "#                                      GIT                                     #\n",
    "# ---------------------------------------------------------------------------- #\n",
    "\n",
    "display(Markdown(\"## Git: tag\"))\n",
    "! git tag"
   ]
  },
  {
   "cell_type": "code",
   "execution_count": null,
   "metadata": {},
   "outputs": [],
   "source": [
    "# ---------------------------------------------------------------------------- #\n",
    "#                                      GIT                                     #\n",
    "# ---------------------------------------------------------------------------- #\n",
    "\n",
    "display(Markdown(\"## Git: diff\"))\n",
    "\n",
    "# Show full blame with blame\n",
    "# ! git blame ../aws_explorer/account.py\n",
    "\n",
    "# ---------------------------------------------------------------------------- #\n",
    "\n",
    "# View author with line number range\n",
    "# ! git blame -L <start_line_number>,<end_line_number> <filename>\n",
    "! git blame -L 20,10 ../aws_explorer/account.py"
   ]
  },
  {
   "cell_type": "code",
   "execution_count": null,
   "metadata": {},
   "outputs": [],
   "source": [
    "# ---------------------------------------------------------------------------- #\n",
    "#                                      GIT                                     #\n",
    "# ---------------------------------------------------------------------------- #\n",
    "\n",
    "display(Markdown(\"## Git: show\"))\n",
    "\n",
    "# Shows the changes made in a specific commit.\n",
    "! git show"
   ]
  },
  {
   "cell_type": "code",
   "execution_count": null,
   "metadata": {},
   "outputs": [],
   "source": [
    "# ---------------------------------------------------------------------------- #\n",
    "#                                      GIT                                     #\n",
    "# ---------------------------------------------------------------------------- #\n",
    "\n",
    "display(Markdown(\"## Git: diff\"))\n",
    "! git diff"
   ]
  },
  {
   "cell_type": "code",
   "execution_count": null,
   "metadata": {},
   "outputs": [],
   "source": [
    "display(Markdown(\"## Git: diff --name-only --staged\"))\n",
    "! git diff --name-only --staged"
   ]
  }
 ],
 "metadata": {
  "kernelspec": {
   "display_name": "awsexplorer",
   "language": "python",
   "name": "python3"
  },
  "language_info": {
   "codemirror_mode": {
    "name": "ipython",
    "version": 3
   },
   "file_extension": ".py",
   "mimetype": "text/x-python",
   "name": "python",
   "nbconvert_exporter": "python",
   "pygments_lexer": "ipython3",
   "version": "3.10.9"
  }
 },
 "nbformat": 4,
 "nbformat_minor": 2
}
