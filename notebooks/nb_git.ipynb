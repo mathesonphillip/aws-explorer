{
 "cells": [
  {
   "attachments": {},
   "cell_type": "markdown",
   "metadata": {},
   "source": [
    "# Notebook Git\n",
    "\n",
    "This notebook to add, commit and push changes to a git repository.\n",
    "When using the notebook you can automate several steps in the git workflow.\n",
    "\n",
    "For example, you can prebuild the commit message using conventional commits.\n",
    "\n",
    "<https://www.conventionalcommits.org/en/v1.0.0/#summary>\n",
    "\n",
    "## Status Icons \n",
    "\n",
    "\n",
    "| Num | Type         | Icon                  | String                  |\n",
    "| --- | ------------ | --------------------- | ----------------------- |\n",
    "| 00  | **refactor** | :recycle:             | `:recycle:`             |\n",
    "| 01  | **chore**    | :wrench:              | `:wrench:`              |\n",
    "| 02  | **docs**     | :memo:                | `:memo:`                |\n",
    "| 03  | **fix**      | :hammer:              | `:hammer:`              |\n",
    "| 04  | **feat**     | :sparkles:            | `:sparkles:`            |\n",
    "| 05  | test         | :white_check_mark:    | `:white_check_mark:`    |\n",
    "| 06  | build        | :package:             | `:package:`             |\n",
    "| 07  | perf         | :zap:                 | `:zap:`                 |\n",
    "| 08  | revert       | :rewind:              | `:rewind:`              |\n",
    "| 09  | release      | :rocket:              | `:rocket:`              |\n",
    "| 10  | other        | :stew:                | `:stew:`                |\n",
    "| 11  | style        | :art:                 | `:art:`                 |\n",
    "| 12  | ci           | :construction_worker: | `:construction_worker:` |"
   ]
  },
  {
   "cell_type": "code",
   "execution_count": 1,
   "metadata": {},
   "outputs": [],
   "source": [
    "ICON_LOOKUP = {\n",
    "    \"Refactor\": \":recycle:\",\n",
    "    \"Chore\": \":wrench:\",\n",
    "    \"Docs\": \":memo:\",\n",
    "    \"Fix\": \":hammer:\",\n",
    "    \"Feat\": \":sparkles:\",\n",
    "    \"Test\": \":white_check_mark:\",\n",
    "    \"Build\": \":package:\",\n",
    "    \"Perf\": \":zap:\",\n",
    "    \"Revert\": \":rewind:\",\n",
    "    \"Release\": \":rocket:\",\n",
    "    \"Other\": \":stew:\",\n",
    "    \"Style\": \":art:\",\n",
    "    \"Ci\": \":construction_worker:\",\n",
    "}\n",
    "\n",
    "\n",
    "def generate_commit_message(commit_type, title, body=None):\n",
    "    \"\"\"This function is used to generate a commit message.\n",
    "    Loosely based on conventional commits.\n",
    "    \"\"\"\n",
    "    icon = ICON_LOOKUP[commit_type]\n",
    "\n",
    "    if not body:\n",
    "        return f\"{commit_type}: {icon} {title}\"\n",
    "\n",
    "    return f\"{commit_type}: {icon} {title}\\n\\n{body}\""
   ]
  },
  {
   "cell_type": "code",
   "execution_count": 2,
   "metadata": {},
   "outputs": [
    {
     "data": {
      "text/markdown": [
       "Test: :white_check_mark: Update Notebook for git automation\n",
       "\n",
       "Ready to start testing the Github Actions workflow."
      ],
      "text/plain": [
       "<IPython.core.display.Markdown object>"
      ]
     },
     "metadata": {},
     "output_type": "display_data"
    }
   ],
   "source": [
    "from IPython.display import Markdown, display\n",
    "\n",
    "# ---------------------------------------------------------------------------- #\n",
    "#                      Define commit message & commit type                     #\n",
    "# ---------------------------------------------------------------------------- #\n",
    "# The last commit type will be used to generate the commit message\n",
    "\n",
    "message = \"Add new feature\"\n",
    "message = \"Add new feature\"\n",
    "message = \"Update Build Automation (Github Actions)\"\n",
    "message = \"Test Github Actions\"\n",
    "\n",
    "# ---------------------------------- Message --------------------------------- #\n",
    "\n",
    "message = \"Update Notebook for git automation\"\n",
    "body = None\n",
    "body = \"This commit updates the notebook for git automation.\"\n",
    "body = \"Ready to start testing the Github Actions workflow.\"\n",
    "# ---------------------------------------------------------------------------- #\n",
    "\n",
    "commit_type = \"Chore\"\n",
    "commit_type = \"Docs\"\n",
    "commit_type = \"Fix\"\n",
    "commit_type = \"Feat\"\n",
    "commit_type = \"Test\"\n",
    "commit_type = \"CI\"\n",
    "\n",
    "# ----------------------------------- Icon ----------------------------------- #\n",
    "\n",
    "commit_type = \"Build\"\n",
    "commit_type = \"Test\"\n",
    "\n",
    "# ---------------------------------------------------------------------------- #\n",
    "\n",
    "# Construct commit message\n",
    "message = generate_commit_message(commit_type, message, body)\n",
    "\n",
    "# Display commit message\n",
    "display(Markdown(f\"{message}\"))"
   ]
  },
  {
   "cell_type": "code",
   "execution_count": 3,
   "metadata": {},
   "outputs": [
    {
     "data": {
      "text/markdown": [
       "## Git Status"
      ],
      "text/plain": [
       "<IPython.core.display.Markdown object>"
      ]
     },
     "metadata": {},
     "output_type": "display_data"
    },
    {
     "name": "stdout",
     "output_type": "stream",
     "text": [
      " \u001b[31mM\u001b[m ../README.md\n",
      " \u001b[31mM\u001b[m ../aws_explorer/account.py\n",
      " \u001b[31mM\u001b[m ../docs/NOTES.md\n",
      " \u001b[31mD\u001b[m ../docs/README.md\n",
      " \u001b[31mM\u001b[m nb_execute.ipynb\n",
      " \u001b[31mM\u001b[m nb_git.ipynb\n",
      " \u001b[31mM\u001b[m nb_setup_install.ipynb\n",
      " \u001b[31mM\u001b[m nb_tooling.ipynb\n",
      " \u001b[31mD\u001b[m ../tests/__init__.py\n"
     ]
    },
    {
     "data": {
      "text/markdown": [
       "----"
      ],
      "text/plain": [
       "<IPython.core.display.Markdown object>"
      ]
     },
     "metadata": {},
     "output_type": "display_data"
    },
    {
     "data": {
      "text/markdown": [
       "## Git Log (Previous Commits)"
      ],
      "text/plain": [
       "<IPython.core.display.Markdown object>"
      ]
     },
     "metadata": {},
     "output_type": "display_data"
    },
    {
     "name": "stdout",
     "output_type": "stream",
     "text": [
      "\u001b[33mf5b1333\u001b[m\u001b[m\u001b[33m (\u001b[m\u001b[1;36mHEAD -> \u001b[m\u001b[1;32mmain\u001b[m\u001b[33m, \u001b[m\u001b[1;31morigin/main\u001b[m\u001b[33m)\u001b[m\u001b[m Merge branch 'main' of https://github.com/mathesonphillip/aws-explorer \u001b[32m(62 minutes ago) \u001b[1;34m<Phillip Matheson>\u001b[m\n",
      "\u001b[33m3e1cdeb\u001b[m\u001b[m\u001b[m Test: :white_check_mark: Update Notebook for git automation \u001b[32m(68 minutes ago) \u001b[1;34m<Phillip Matheson>\u001b[m\n",
      "\u001b[33mb7865d2\u001b[m\u001b[m\u001b[m Create python-package.yml \u001b[32m(83 minutes ago) \u001b[1;34m<Phillip Matheson>\u001b[m\n",
      "\u001b[33m63fd0fd\u001b[m\u001b[m\u001b[m build: :package: Update Notebook for git automation \u001b[32m(2 hours ago) \u001b[1;34m<Phillip Matheson>\u001b[m\n",
      "\u001b[33md7e1503\u001b[m\u001b[m\u001b[m docs: :memo: Move README to root for setup.py \u001b[32m(5 hours ago) \u001b[1;34m<Phillip Matheson>\u001b[m\n",
      "\u001b[33mcd68139\u001b[m\u001b[m\u001b[m chore: :hammer: Update Notebook Tooling \u001b[32m(5 hours ago) \u001b[1;34m<Phillip Matheson>\u001b[m\n",
      "\u001b[33mb2ed85b\u001b[m\u001b[m\u001b[m Add PreCommit Hooks \u001b[32m(7 hours ago) \u001b[1;34m<Phillip Matheson>\u001b[m\n",
      "\u001b[33maec782d\u001b[m\u001b[m\u001b[m Fix class repr \u001b[32m(9 hours ago) \u001b[1;34m<Phillip Matheson>\u001b[m\n",
      "\u001b[33mfb9dafe\u001b[m\u001b[m\u001b[m Add tests \u001b[32m(9 hours ago) \u001b[1;34m<Phillip Matheson>\u001b[m\n",
      "\u001b[33m591e38f\u001b[m\u001b[m\u001b[m Add missing imports \u001b[32m(9 hours ago) \u001b[1;34m<Phillip Matheson>\u001b[m\n",
      "\u001b[33meb20b1c\u001b[m\u001b[m\u001b[m Initial Commit \u001b[32m(12 hours ago) \u001b[1;34m<Phillip Matheson>\u001b[m"
     ]
    }
   ],
   "source": [
    "# ! git status --verbose\n",
    "# ! git status --ignored --short\n",
    "# ! git status --ignored --short --branch\n",
    "\n",
    "display(Markdown(f\"## Git Status\"))\n",
    "! git status --short\n",
    "\n",
    "display(Markdown(f\"----\"))\n",
    "\n",
    "display(Markdown(f\"## Git Log (Previous Commits)\"))\n",
    "! git log --oneline --pretty=format:\"%C(yellow)%h%Creset%C(auto)%d%Creset %s %Cgreen(%cr) %C(bold blue)<%an>%Creset\" --abbrev-commit --all"
   ]
  },
  {
   "cell_type": "code",
   "execution_count": 8,
   "metadata": {},
   "outputs": [
    {
     "name": "stdout",
     "output_type": "stream",
     "text": [
      " \u001b[31mM\u001b[m ../README.md\n",
      " \u001b[31mM\u001b[m ../aws_explorer/account.py\n",
      " \u001b[31mM\u001b[m ../docs/NOTES.md\n",
      " \u001b[31mD\u001b[m ../docs/README.md\n",
      "\u001b[32mM\u001b[m\u001b[31mM\u001b[m nb_execute.ipynb\n",
      "\u001b[32mM\u001b[m  nb_git.ipynb\n",
      "\u001b[32mM\u001b[m  nb_setup_install.ipynb\n",
      "\u001b[32mM\u001b[m  nb_tooling.ipynb\n",
      " \u001b[31mD\u001b[m ../tests/__init__.py\n"
     ]
    },
    {
     "data": {
      "text/markdown": [
       "----"
      ],
      "text/plain": [
       "<IPython.core.display.Markdown object>"
      ]
     },
     "metadata": {},
     "output_type": "display_data"
    },
    {
     "name": "stdout",
     "output_type": "stream",
     "text": [
      " \u001b[31mM\u001b[m ../README.md\n",
      " \u001b[31mM\u001b[m ../aws_explorer/account.py\n",
      " \u001b[31mM\u001b[m ../docs/NOTES.md\n",
      " \u001b[31mD\u001b[m ../docs/README.md\n",
      "\u001b[32mM\u001b[m  nb_execute.ipynb\n",
      "\u001b[32mM\u001b[m  nb_git.ipynb\n",
      "\u001b[32mM\u001b[m  nb_setup_install.ipynb\n",
      "\u001b[32mM\u001b[m  nb_tooling.ipynb\n",
      " \u001b[31mD\u001b[m ../tests/__init__.py\n"
     ]
    }
   ],
   "source": [
    "# ---------------------------------------------------------------------------- #\n",
    "#                                    Git Add                                   #\n",
    "# ---------------------------------------------------------------------------- #\n",
    "\n",
    "! git status --short\n",
    "\n",
    "display(Markdown(f\"----\"))\n",
    "! git add *.ipynb\n",
    "! git status --short"
   ]
  },
  {
   "cell_type": "code",
   "execution_count": 9,
   "metadata": {},
   "outputs": [
    {
     "name": "stdout",
     "output_type": "stream",
     "text": [
      "\u001b[43;30m[WARNING]\u001b[m Unstaged files detected.\n",
      "[INFO]\u001b[m Stashing unstaged files to /home/phil/.cache/pre-commit/patch1677316261-263314.\n",
      "black................................................(no files to check)\u001b[46;30mSkipped\u001b[m\n",
      "flake8...............................................(no files to check)\u001b[46;30mSkipped\u001b[m\n",
      "check docstring is first.............................(no files to check)\u001b[46;30mSkipped\u001b[m\n",
      "check that executables have shebangs.................(no files to check)\u001b[46;30mSkipped\u001b[m\n",
      "check json...........................................(no files to check)\u001b[46;30mSkipped\u001b[m\n",
      "check that scripts with shebangs are executable..........................\u001b[42mPassed\u001b[m\n",
      "detect aws credentials...................................................\u001b[42mPassed\u001b[m\n",
      "detect private key.......................................................\u001b[42mPassed\u001b[m\n",
      "fix end of files.........................................................\u001b[42mPassed\u001b[m\n",
      "mixed line ending........................................................\u001b[42mPassed\u001b[m\n",
      "trim trailing whitespace.................................................\u001b[42mPassed\u001b[m\n",
      "debug statements (python)............................(no files to check)\u001b[46;30mSkipped\u001b[m\n",
      "black-jupyter............................................................\u001b[42mPassed\u001b[m\n",
      "nbqa-isort...............................................................\u001b[42mPassed\u001b[m\n",
      "nbqa-pyupgrade...........................................................\u001b[42mPassed\u001b[m\n",
      "typos....................................................................\u001b[42mPassed\u001b[m\n",
      "[INFO]\u001b[m Restored changes from /home/phil/.cache/pre-commit/patch1677316261-263314.\n",
      "[main 9c1c7d1] Test: :white_check_mark: Update Notebook for git automation\n",
      " 4 files changed, 452 insertions(+), 22 deletions(-)\n"
     ]
    }
   ],
   "source": [
    "# ! \"$message\"\n",
    "# ! '$message'\n",
    "\n",
    "! git commit -m \"$message\""
   ]
  },
  {
   "cell_type": "code",
   "execution_count": 10,
   "metadata": {},
   "outputs": [
    {
     "name": "stdout",
     "output_type": "stream",
     "text": [
      "Already up to date.\n",
      "Enumerating objects: 13, done.\n",
      "Counting objects: 100% (13/13), done.\n",
      "Delta compression using up to 12 threads\n",
      "Compressing objects: 100% (7/7), done.\n",
      "Writing objects: 100% (7/7), 9.92 KiB | 4.96 MiB/s, done.\n",
      "Total 7 (delta 3), reused 0 (delta 0), pack-reused 0\n",
      "remote: Resolving deltas: 100% (3/3), completed with 3 local objects.\u001b[K\n",
      "To https://github.com/mathesonphillip/aws-explorer.git\n",
      "   f5b1333..9c1c7d1  main -> main\n"
     ]
    }
   ],
   "source": [
    "! git pull\n",
    "! git push"
   ]
  },
  {
   "cell_type": "code",
   "execution_count": 54,
   "metadata": {},
   "outputs": [
    {
     "name": "stdout",
     "output_type": "stream",
     "text": [
      "\u001b[1B\u001b[37m 7\u001b[2;4H\u001b[m\u001b[m# the commit.ing with '#' will be ignored, and an empty message abortsary,replace\u001b[m\u001b[m   \u001b[37m\u001b[1m^U\u001b[m\u001b[m \u001b[37mPaste\u001b[m\u001b[m     \u001b[37m\u001b[1m^J\u001b[m\u001b[m \u001b[37mJustify\u001b[m\u001b[m   \u001b[37m\u001b[1m^/\u001b[m\u001b[m \u001b[37mGo To Line\u001b[m\u001b[m/Projects/aws-explorer/.git/MERGE_MSG               \u001b[1;79H\u001b[m\u001b[m\u001b[22;12H\u001b[37m\u001b[1m[ line  1/7 (14%), col  1/71 (  1%), char   0/297 ( 0%) ]\u001b[m\u001b[m\u001b[22;12H                 \u001b[37m\u001b[1m[ Justified paragraph ]\u001b[m\u001b[m\u001b[K\u001b[1;71H\u001b[37m\u001b[1mModified\u001b[m\u001b[m\u001b[3;4H"
     ]
    }
   ],
   "source": [
    "# This is to fix issue with github\n",
    "# 'fatal: Not possible to fast-forward, aborting.'\n",
    "\n",
    "! git pull --no-ff"
   ]
  },
  {
   "cell_type": "code",
   "execution_count": null,
   "metadata": {},
   "outputs": [],
   "source": []
  },
  {
   "cell_type": "code",
   "execution_count": null,
   "metadata": {},
   "outputs": [],
   "source": []
  }
 ],
 "metadata": {
  "kernelspec": {
   "display_name": "awsexplorer",
   "language": "python",
   "name": "python3"
  },
  "language_info": {
   "codemirror_mode": {
    "name": "ipython",
    "version": 3
   },
   "file_extension": ".py",
   "mimetype": "text/x-python",
   "name": "python",
   "nbconvert_exporter": "python",
   "pygments_lexer": "ipython3",
   "version": "3.10.9"
  }
 },
 "nbformat": 4,
 "nbformat_minor": 2
}
