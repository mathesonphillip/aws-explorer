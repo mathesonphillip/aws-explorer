{
 "cells": [
  {
   "attachments": {},
   "cell_type": "markdown",
   "metadata": {},
   "source": [
    "# Notebook Git\n",
    "\n",
    "This notebook to add, commit and push changes to a git repository.\n",
    "When using the notebook you can automate several steps in the git workflow.\n",
    "\n",
    "For example, you can prebuild the commit message using conventional commits.\n",
    "\n",
    "<https://www.conventionalcommits.org/en/v1.0.0/#summary>\n",
    "\n",
    "## Status Icons \n",
    "\n",
    "\n",
    "| Num | Type         | Icon                  | String                  |\n",
    "| --- | ------------ | --------------------- | ----------------------- |\n",
    "| 00  | **refactor** | :recycle:             | `:recycle:`             |\n",
    "| 01  | **chore**    | :wrench:              | `:wrench:`              |\n",
    "| 02  | **docs**     | :memo:                | `:memo:`                |\n",
    "| 03  | **fix**      | :hammer:              | `:hammer:`              |\n",
    "| 04  | **feat**     | :sparkles:            | `:sparkles:`            |\n",
    "| 05  | test         | :white_check_mark:    | `:white_check_mark:`    |\n",
    "| 06  | build        | :package:             | `:package:`             |\n",
    "| 07  | perf         | :zap:                 | `:zap:`                 |\n",
    "| 08  | revert       | :rewind:              | `:rewind:`              |\n",
    "| 09  | release      | :rocket:              | `:rocket:`              |\n",
    "| 10  | other        | :stew:                | `:stew:`                |\n",
    "| 11  | style        | :art:                 | `:art:`                 |\n",
    "| 12  | ci           | :construction_worker: | `:construction_worker:` |"
   ]
  },
  {
   "cell_type": "code",
   "execution_count": null,
   "metadata": {},
   "outputs": [],
   "source": [
    "ICON_LOOKUP = {\n",
    "    \"refactor\": \":recycle:\",\n",
    "    \"chore\": \":wrench:\",\n",
    "    \"docs\": \":memo:\",\n",
    "    \"fix\": \":hammer:\",\n",
    "    \"feat\": \":sparkles:\",\n",
    "    \"test\": \":white_check_mark:\",\n",
    "    \"build\": \":package:\",\n",
    "    \"perf\": \":zap:\",\n",
    "    \"revert\": \":rewind:\",\n",
    "    \"release\": \":rocket:\",\n",
    "    \"other\": \":stew:\",\n",
    "    \"style\": \":art:\",\n",
    "    \"ci\": \":construction_worker:\",\n",
    "}\n",
    "\n",
    "\n",
    "def generate_commit_message(commit_type, title, body=None):\n",
    "    \"\"\"This function is used to generate a commit message.\n",
    "    Loosely based on conventional commits.\n",
    "    \"\"\"\n",
    "    icon = ICON_LOOKUP[commit_type]\n",
    "\n",
    "    if not body:\n",
    "        return f\"{commit_type}: {icon} {title}\"\n",
    "\n",
    "    return f\"{commit_type}: {icon} {title}\\n\\n{body}\""
   ]
  },
  {
   "cell_type": "code",
   "execution_count": null,
   "metadata": {},
   "outputs": [],
   "source": [
    "from IPython.display import Markdown, display\n",
    "\n",
    "# ---------------------------------------------------------------------------- #\n",
    "#                      Define commit message & commit type                     #\n",
    "# ---------------------------------------------------------------------------- #\n",
    "# The last commit type will be used to generate the commit message\n",
    "\n",
    "message = \"Add new feature\"\n",
    "message = \"Add new feature\"\n",
    "message = \"Update Build Automation (Github Actions)\"\n",
    "\n",
    "# ---------------------------------- Message --------------------------------- #\n",
    "\n",
    "message = \"Update Notebook for git automation\"\n",
    "body = None\n",
    "body = \"This commit updates the notebook for git automation.\"\n",
    "# ---------------------------------------------------------------------------- #\n",
    "\n",
    "commit_type = \"chore\"\n",
    "commit_type = \"docs\"\n",
    "commit_type = \"fix\"\n",
    "commit_type = \"feat\"\n",
    "commit_type = \"test\"\n",
    "commit_type = \"ci\"\n",
    "\n",
    "# ----------------------------------- Icon ----------------------------------- #\n",
    "\n",
    "commit_type = \"build\"\n",
    "\n",
    "# ---------------------------------------------------------------------------- #\n",
    "\n",
    "# Construct commit message\n",
    "message = generate_commit_message(commit_type, message, body)\n",
    "\n",
    "# Display commit message\n",
    "display(Markdown(f\"{message}\"))"
   ]
  },
  {
   "cell_type": "code",
   "execution_count": null,
   "metadata": {},
   "outputs": [],
   "source": [
    "# ! git status --verbose\n",
    "# ! git status --ignored --short\n",
    "# ! git status --ignored --short --branch\n",
    "\n",
    "display(Markdown(f\"## Git Status\"))\n",
    "! git status --short\n",
    "\n",
    "display(Markdown(f\"----\"))\n",
    "\n",
    "display(Markdown(f\"## Git Log (Previous Commits)\"))\n",
    "! git log --oneline --pretty=format:\"%C(yellow)%h%Creset%C(auto)%d%Creset %s %Cgreen(%cr) %C(bold blue)<%an>%Creset\" --abbrev-commit --all"
   ]
  },
  {
   "cell_type": "code",
   "execution_count": null,
   "metadata": {},
   "outputs": [],
   "source": [
    "# ---------------------------------------------------------------------------- #\n",
    "#                                    Git Add                                   #\n",
    "# ---------------------------------------------------------------------------- #\n",
    "\n",
    "! git add *.ipynb\n",
    "! git status"
   ]
  },
  {
   "cell_type": "code",
   "execution_count": null,
   "metadata": {},
   "outputs": [],
   "source": [
    "# ! \"$message\"\n",
    "# ! '$message'\n",
    "\n",
    "! git commit -m \"$message\""
   ]
  },
  {
   "cell_type": "code",
   "execution_count": null,
   "metadata": {},
   "outputs": [],
   "source": []
  },
  {
   "cell_type": "code",
   "execution_count": null,
   "metadata": {},
   "outputs": [],
   "source": []
  },
  {
   "cell_type": "code",
   "execution_count": null,
   "metadata": {},
   "outputs": [],
   "source": []
  },
  {
   "cell_type": "code",
   "execution_count": null,
   "metadata": {},
   "outputs": [],
   "source": []
  }
 ],
 "metadata": {
  "kernelspec": {
   "display_name": "awsexplorer",
   "language": "python",
   "name": "python3"
  },
  "language_info": {
   "codemirror_mode": {
    "name": "ipython",
    "version": 3
   },
   "file_extension": ".py",
   "mimetype": "text/x-python",
   "name": "python",
   "nbconvert_exporter": "python",
   "pygments_lexer": "ipython3",
   "version": "3.10.9"
  }
 },
 "nbformat": 4,
 "nbformat_minor": 2
}
